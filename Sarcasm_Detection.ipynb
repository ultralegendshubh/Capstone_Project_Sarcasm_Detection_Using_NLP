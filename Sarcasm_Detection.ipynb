{
 "cells": [
  {
   "cell_type": "markdown",
   "id": "b7fe5a7c",
   "metadata": {},
   "source": [
    "### importing important packages"
   ]
  },
  {
   "cell_type": "code",
   "execution_count": 1,
   "id": "9b495878",
   "metadata": {},
   "outputs": [],
   "source": [
    "# importing important packages\n",
    "import pandas as pd \n",
    "import numpy as np\n",
    "import matplotlib.pyplot as plt\n",
    "import seaborn as sns"
   ]
  },
  {
   "cell_type": "markdown",
   "id": "0ed848a3",
   "metadata": {},
   "source": [
    "### importing dataset"
   ]
  },
  {
   "cell_type": "code",
   "execution_count": 2,
   "id": "91c8e0ef",
   "metadata": {},
   "outputs": [],
   "source": [
    "# importing dataset\n",
    "df = pd.read_csv(r\"C:\\Users\\hp\\Downloads\\Data (1).csv\")"
   ]
  },
  {
   "cell_type": "code",
   "execution_count": 3,
   "id": "ff74aefb",
   "metadata": {},
   "outputs": [
    {
     "data": {
      "text/html": [
       "<div>\n",
       "<style scoped>\n",
       "    .dataframe tbody tr th:only-of-type {\n",
       "        vertical-align: middle;\n",
       "    }\n",
       "\n",
       "    .dataframe tbody tr th {\n",
       "        vertical-align: top;\n",
       "    }\n",
       "\n",
       "    .dataframe thead th {\n",
       "        text-align: right;\n",
       "    }\n",
       "</style>\n",
       "<table border=\"1\" class=\"dataframe\">\n",
       "  <thead>\n",
       "    <tr style=\"text-align: right;\">\n",
       "      <th></th>\n",
       "      <th>headlines</th>\n",
       "      <th>target</th>\n",
       "    </tr>\n",
       "  </thead>\n",
       "  <tbody>\n",
       "    <tr>\n",
       "      <th>0</th>\n",
       "      <td>CNN Triumphs (At Least in Most Demographic Cat...</td>\n",
       "      <td>Non Sarcastic</td>\n",
       "    </tr>\n",
       "    <tr>\n",
       "      <th>1</th>\n",
       "      <td>‘You Did The Best You Could,’ Says Iron Man Ac...</td>\n",
       "      <td>Sarcastic</td>\n",
       "    </tr>\n",
       "    <tr>\n",
       "      <th>2</th>\n",
       "      <td>New Emails Reveal Warm Relationship Between Ka...</td>\n",
       "      <td>Non Sarcastic</td>\n",
       "    </tr>\n",
       "    <tr>\n",
       "      <th>3</th>\n",
       "      <td>Donald Trump Jr. Gets Slammed Over Racist Birt...</td>\n",
       "      <td>Non Sarcastic</td>\n",
       "    </tr>\n",
       "    <tr>\n",
       "      <th>4</th>\n",
       "      <td>God Urges Rick Perry Not To Run For President</td>\n",
       "      <td>Sarcastic</td>\n",
       "    </tr>\n",
       "    <tr>\n",
       "      <th>5</th>\n",
       "      <td>Global Aid Pours into Haiti</td>\n",
       "      <td>Non Sarcastic</td>\n",
       "    </tr>\n",
       "    <tr>\n",
       "      <th>6</th>\n",
       "      <td>CNN Anchor Calls Obama Protester 'Rude' And 'C...</td>\n",
       "      <td>Non Sarcastic</td>\n",
       "    </tr>\n",
       "    <tr>\n",
       "      <th>7</th>\n",
       "      <td>Federal Prisons Reinstitute Executions By Leth...</td>\n",
       "      <td>Sarcastic</td>\n",
       "    </tr>\n",
       "    <tr>\n",
       "      <th>8</th>\n",
       "      <td>Lou Dobbs Crumbles When Pressed On His 'NAFTA ...</td>\n",
       "      <td>Non Sarcastic</td>\n",
       "    </tr>\n",
       "    <tr>\n",
       "      <th>9</th>\n",
       "      <td>CNN Still Bent On Debating 'Two Sides' Of The ...</td>\n",
       "      <td>Non Sarcastic</td>\n",
       "    </tr>\n",
       "  </tbody>\n",
       "</table>\n",
       "</div>"
      ],
      "text/plain": [
       "                                           headlines         target\n",
       "0  CNN Triumphs (At Least in Most Demographic Cat...  Non Sarcastic\n",
       "1  ‘You Did The Best You Could,’ Says Iron Man Ac...      Sarcastic\n",
       "2  New Emails Reveal Warm Relationship Between Ka...  Non Sarcastic\n",
       "3  Donald Trump Jr. Gets Slammed Over Racist Birt...  Non Sarcastic\n",
       "4      God Urges Rick Perry Not To Run For President      Sarcastic\n",
       "5                        Global Aid Pours into Haiti  Non Sarcastic\n",
       "6  CNN Anchor Calls Obama Protester 'Rude' And 'C...  Non Sarcastic\n",
       "7  Federal Prisons Reinstitute Executions By Leth...      Sarcastic\n",
       "8  Lou Dobbs Crumbles When Pressed On His 'NAFTA ...  Non Sarcastic\n",
       "9  CNN Still Bent On Debating 'Two Sides' Of The ...  Non Sarcastic"
      ]
     },
     "execution_count": 3,
     "metadata": {},
     "output_type": "execute_result"
    }
   ],
   "source": [
    "df.head(10)"
   ]
  },
  {
   "cell_type": "code",
   "execution_count": 4,
   "id": "a110735a",
   "metadata": {},
   "outputs": [
    {
     "data": {
      "text/plain": [
       "(12506, 2)"
      ]
     },
     "execution_count": 4,
     "metadata": {},
     "output_type": "execute_result"
    }
   ],
   "source": [
    "df.shape"
   ]
  },
  {
   "cell_type": "code",
   "execution_count": 5,
   "id": "cfcdb761",
   "metadata": {
    "scrolled": true
   },
   "outputs": [
    {
     "name": "stdout",
     "output_type": "stream",
     "text": [
      "<class 'pandas.core.frame.DataFrame'>\n",
      "RangeIndex: 12506 entries, 0 to 12505\n",
      "Data columns (total 2 columns):\n",
      " #   Column     Non-Null Count  Dtype \n",
      "---  ------     --------------  ----- \n",
      " 0   headlines  12506 non-null  object\n",
      " 1   target     12506 non-null  object\n",
      "dtypes: object(2)\n",
      "memory usage: 195.5+ KB\n"
     ]
    }
   ],
   "source": [
    "df.info()"
   ]
  },
  {
   "cell_type": "markdown",
   "id": "ca923f76",
   "metadata": {},
   "source": [
    "### Missing values imputation"
   ]
  },
  {
   "cell_type": "code",
   "execution_count": 6,
   "id": "fa7b8c45",
   "metadata": {},
   "outputs": [
    {
     "data": {
      "text/plain": [
       "headlines    0\n",
       "target       0\n",
       "dtype: int64"
      ]
     },
     "execution_count": 6,
     "metadata": {},
     "output_type": "execute_result"
    }
   ],
   "source": [
    "# missing values \n",
    "df.isnull().sum()"
   ]
  },
  {
   "cell_type": "markdown",
   "id": "db9c56a1",
   "metadata": {},
   "source": [
    "### Duplicated values"
   ]
  },
  {
   "cell_type": "code",
   "execution_count": 7,
   "id": "7ece90ad",
   "metadata": {},
   "outputs": [
    {
     "data": {
      "text/plain": [
       "0"
      ]
     },
     "execution_count": 7,
     "metadata": {},
     "output_type": "execute_result"
    }
   ],
   "source": [
    "# duplicated values\n",
    "df.duplicated().sum()"
   ]
  },
  {
   "cell_type": "markdown",
   "id": "14b29971",
   "metadata": {},
   "source": [
    "### Label encoder"
   ]
  },
  {
   "cell_type": "code",
   "execution_count": 8,
   "id": "d6067885",
   "metadata": {},
   "outputs": [],
   "source": [
    "# labels encoder to convert target columns into numarical columns\n",
    "from sklearn.preprocessing import LabelEncoder\n",
    "lb = LabelEncoder()\n",
    "df['target'] = lb.fit_transform(df['target'])"
   ]
  },
  {
   "cell_type": "code",
   "execution_count": 9,
   "id": "ff58bf77",
   "metadata": {},
   "outputs": [
    {
     "data": {
      "text/plain": [
       "0        0\n",
       "1        1\n",
       "2        0\n",
       "3        0\n",
       "4        1\n",
       "        ..\n",
       "12501    0\n",
       "12502    1\n",
       "12503    1\n",
       "12504    0\n",
       "12505    1\n",
       "Name: target, Length: 12506, dtype: int32"
      ]
     },
     "execution_count": 9,
     "metadata": {},
     "output_type": "execute_result"
    }
   ],
   "source": [
    "df['target'] "
   ]
  },
  {
   "cell_type": "code",
   "execution_count": 10,
   "id": "6933c691",
   "metadata": {},
   "outputs": [
    {
     "data": {
      "text/html": [
       "<div>\n",
       "<style scoped>\n",
       "    .dataframe tbody tr th:only-of-type {\n",
       "        vertical-align: middle;\n",
       "    }\n",
       "\n",
       "    .dataframe tbody tr th {\n",
       "        vertical-align: top;\n",
       "    }\n",
       "\n",
       "    .dataframe thead th {\n",
       "        text-align: right;\n",
       "    }\n",
       "</style>\n",
       "<table border=\"1\" class=\"dataframe\">\n",
       "  <thead>\n",
       "    <tr style=\"text-align: right;\">\n",
       "      <th></th>\n",
       "      <th>headlines</th>\n",
       "      <th>target</th>\n",
       "    </tr>\n",
       "  </thead>\n",
       "  <tbody>\n",
       "    <tr>\n",
       "      <th>0</th>\n",
       "      <td>CNN Triumphs (At Least in Most Demographic Cat...</td>\n",
       "      <td>0</td>\n",
       "    </tr>\n",
       "    <tr>\n",
       "      <th>1</th>\n",
       "      <td>‘You Did The Best You Could,’ Says Iron Man Ac...</td>\n",
       "      <td>1</td>\n",
       "    </tr>\n",
       "    <tr>\n",
       "      <th>2</th>\n",
       "      <td>New Emails Reveal Warm Relationship Between Ka...</td>\n",
       "      <td>0</td>\n",
       "    </tr>\n",
       "    <tr>\n",
       "      <th>3</th>\n",
       "      <td>Donald Trump Jr. Gets Slammed Over Racist Birt...</td>\n",
       "      <td>0</td>\n",
       "    </tr>\n",
       "    <tr>\n",
       "      <th>4</th>\n",
       "      <td>God Urges Rick Perry Not To Run For President</td>\n",
       "      <td>1</td>\n",
       "    </tr>\n",
       "  </tbody>\n",
       "</table>\n",
       "</div>"
      ],
      "text/plain": [
       "                                           headlines  target\n",
       "0  CNN Triumphs (At Least in Most Demographic Cat...       0\n",
       "1  ‘You Did The Best You Could,’ Says Iron Man Ac...       1\n",
       "2  New Emails Reveal Warm Relationship Between Ka...       0\n",
       "3  Donald Trump Jr. Gets Slammed Over Racist Birt...       0\n",
       "4      God Urges Rick Perry Not To Run For President       1"
      ]
     },
     "execution_count": 10,
     "metadata": {},
     "output_type": "execute_result"
    }
   ],
   "source": [
    "df.head()"
   ]
  },
  {
   "cell_type": "markdown",
   "id": "ec3177fb",
   "metadata": {},
   "source": [
    "### Renaming columns names"
   ]
  },
  {
   "cell_type": "code",
   "execution_count": 11,
   "id": "376053b7",
   "metadata": {},
   "outputs": [],
   "source": [
    "df.rename(columns={'headlines':'text','target':'target'},inplace=True)"
   ]
  },
  {
   "cell_type": "code",
   "execution_count": 12,
   "id": "654d0a46",
   "metadata": {
    "scrolled": true
   },
   "outputs": [
    {
     "data": {
      "text/html": [
       "<div>\n",
       "<style scoped>\n",
       "    .dataframe tbody tr th:only-of-type {\n",
       "        vertical-align: middle;\n",
       "    }\n",
       "\n",
       "    .dataframe tbody tr th {\n",
       "        vertical-align: top;\n",
       "    }\n",
       "\n",
       "    .dataframe thead th {\n",
       "        text-align: right;\n",
       "    }\n",
       "</style>\n",
       "<table border=\"1\" class=\"dataframe\">\n",
       "  <thead>\n",
       "    <tr style=\"text-align: right;\">\n",
       "      <th></th>\n",
       "      <th>text</th>\n",
       "      <th>target</th>\n",
       "    </tr>\n",
       "  </thead>\n",
       "  <tbody>\n",
       "    <tr>\n",
       "      <th>0</th>\n",
       "      <td>CNN Triumphs (At Least in Most Demographic Cat...</td>\n",
       "      <td>0</td>\n",
       "    </tr>\n",
       "    <tr>\n",
       "      <th>1</th>\n",
       "      <td>‘You Did The Best You Could,’ Says Iron Man Ac...</td>\n",
       "      <td>1</td>\n",
       "    </tr>\n",
       "    <tr>\n",
       "      <th>2</th>\n",
       "      <td>New Emails Reveal Warm Relationship Between Ka...</td>\n",
       "      <td>0</td>\n",
       "    </tr>\n",
       "    <tr>\n",
       "      <th>3</th>\n",
       "      <td>Donald Trump Jr. Gets Slammed Over Racist Birt...</td>\n",
       "      <td>0</td>\n",
       "    </tr>\n",
       "    <tr>\n",
       "      <th>4</th>\n",
       "      <td>God Urges Rick Perry Not To Run For President</td>\n",
       "      <td>1</td>\n",
       "    </tr>\n",
       "  </tbody>\n",
       "</table>\n",
       "</div>"
      ],
      "text/plain": [
       "                                                text  target\n",
       "0  CNN Triumphs (At Least in Most Demographic Cat...       0\n",
       "1  ‘You Did The Best You Could,’ Says Iron Man Ac...       1\n",
       "2  New Emails Reveal Warm Relationship Between Ka...       0\n",
       "3  Donald Trump Jr. Gets Slammed Over Racist Birt...       0\n",
       "4      God Urges Rick Perry Not To Run For President       1"
      ]
     },
     "execution_count": 12,
     "metadata": {},
     "output_type": "execute_result"
    }
   ],
   "source": [
    "df.head()"
   ]
  },
  {
   "cell_type": "markdown",
   "id": "6e17f680",
   "metadata": {},
   "source": [
    "### values counts of target colm"
   ]
  },
  {
   "cell_type": "code",
   "execution_count": 13,
   "id": "a6a4c2da",
   "metadata": {
    "scrolled": true
   },
   "outputs": [
    {
     "data": {
      "text/plain": [
       "0    6531\n",
       "1    5975\n",
       "Name: target, dtype: int64"
      ]
     },
     "execution_count": 13,
     "metadata": {},
     "output_type": "execute_result"
    }
   ],
   "source": [
    "df['target'].value_counts()"
   ]
  },
  {
   "cell_type": "code",
   "execution_count": 14,
   "id": "f3e5e98a",
   "metadata": {},
   "outputs": [
    {
     "name": "stderr",
     "output_type": "stream",
     "text": [
      "[nltk_data] Downloading package punkt to\n",
      "[nltk_data]     C:\\Users\\hp\\AppData\\Roaming\\nltk_data...\n",
      "[nltk_data]   Package punkt is already up-to-date!\n"
     ]
    },
    {
     "data": {
      "text/plain": [
       "True"
      ]
     },
     "execution_count": 14,
     "metadata": {},
     "output_type": "execute_result"
    }
   ],
   "source": [
    "# importing nltk packege\n",
    "import nltk\n",
    "nltk.download('punkt')"
   ]
  },
  {
   "cell_type": "markdown",
   "id": "197fd727",
   "metadata": {},
   "source": [
    "#### 3.Data Preprocessing\n",
    "* Lower case\n",
    "* Tokenization\n",
    "* Removing special characters\n",
    "* Removing stop words and punctuation\n",
    "* Stemming"
   ]
  },
  {
   "cell_type": "code",
   "execution_count": 15,
   "id": "5c5edec9",
   "metadata": {},
   "outputs": [
    {
     "data": {
      "text/html": [
       "<div>\n",
       "<style scoped>\n",
       "    .dataframe tbody tr th:only-of-type {\n",
       "        vertical-align: middle;\n",
       "    }\n",
       "\n",
       "    .dataframe tbody tr th {\n",
       "        vertical-align: top;\n",
       "    }\n",
       "\n",
       "    .dataframe thead th {\n",
       "        text-align: right;\n",
       "    }\n",
       "</style>\n",
       "<table border=\"1\" class=\"dataframe\">\n",
       "  <thead>\n",
       "    <tr style=\"text-align: right;\">\n",
       "      <th></th>\n",
       "      <th>text</th>\n",
       "      <th>target</th>\n",
       "    </tr>\n",
       "  </thead>\n",
       "  <tbody>\n",
       "    <tr>\n",
       "      <th>0</th>\n",
       "      <td>CNN Triumphs (At Least in Most Demographic Cat...</td>\n",
       "      <td>0</td>\n",
       "    </tr>\n",
       "    <tr>\n",
       "      <th>1</th>\n",
       "      <td>‘You Did The Best You Could,’ Says Iron Man Ac...</td>\n",
       "      <td>1</td>\n",
       "    </tr>\n",
       "    <tr>\n",
       "      <th>2</th>\n",
       "      <td>New Emails Reveal Warm Relationship Between Ka...</td>\n",
       "      <td>0</td>\n",
       "    </tr>\n",
       "    <tr>\n",
       "      <th>3</th>\n",
       "      <td>Donald Trump Jr. Gets Slammed Over Racist Birt...</td>\n",
       "      <td>0</td>\n",
       "    </tr>\n",
       "  </tbody>\n",
       "</table>\n",
       "</div>"
      ],
      "text/plain": [
       "                                                text  target\n",
       "0  CNN Triumphs (At Least in Most Demographic Cat...       0\n",
       "1  ‘You Did The Best You Could,’ Says Iron Man Ac...       1\n",
       "2  New Emails Reveal Warm Relationship Between Ka...       0\n",
       "3  Donald Trump Jr. Gets Slammed Over Racist Birt...       0"
      ]
     },
     "execution_count": 15,
     "metadata": {},
     "output_type": "execute_result"
    }
   ],
   "source": [
    "df.head(4)"
   ]
  },
  {
   "cell_type": "code",
   "execution_count": 16,
   "id": "c6d0652d",
   "metadata": {},
   "outputs": [
    {
     "data": {
      "text/plain": [
       "'New Emails Reveal Warm Relationship Between Kamala Harris And Big Tech'"
      ]
     },
     "execution_count": 16,
     "metadata": {},
     "output_type": "execute_result"
    }
   ],
   "source": [
    "df['text'][2]"
   ]
  },
  {
   "cell_type": "markdown",
   "id": "217d5fa7",
   "metadata": {},
   "source": [
    "### steming package "
   ]
  },
  {
   "cell_type": "code",
   "execution_count": 17,
   "id": "f46acc36",
   "metadata": {},
   "outputs": [],
   "source": [
    "# for stemming \n",
    "from nltk.stem.porter import PorterStemmer\n",
    "ps = PorterStemmer()"
   ]
  },
  {
   "cell_type": "markdown",
   "id": "e139a98f",
   "metadata": {},
   "source": [
    "### punctuation "
   ]
  },
  {
   "cell_type": "code",
   "execution_count": 18,
   "id": "e9133e12",
   "metadata": {},
   "outputs": [
    {
     "data": {
      "text/plain": [
       "'!\"#$%&\\'()*+,-./:;<=>?@[\\\\]^_`{|}~'"
      ]
     },
     "execution_count": 18,
     "metadata": {},
     "output_type": "execute_result"
    }
   ],
   "source": [
    "# punctuation labrary to remove punctuations in santeces\n",
    "import string \n",
    "string.punctuation"
   ]
  },
  {
   "cell_type": "markdown",
   "id": "69f4af4e",
   "metadata": {},
   "source": [
    "### stopwords "
   ]
  },
  {
   "cell_type": "code",
   "execution_count": 19,
   "id": "31b116db",
   "metadata": {},
   "outputs": [],
   "source": [
    "from nltk.corpus import stopwords\n",
    "stopworld = stopwords.words('english')"
   ]
  },
  {
   "cell_type": "code",
   "execution_count": 20,
   "id": "9855730f",
   "metadata": {},
   "outputs": [],
   "source": [
    "def transform_text(text):\n",
    "    text = text.lower()\n",
    "    text = nltk.word_tokenize(text)\n",
    "    \n",
    "    y=[]\n",
    "    for i in text:\n",
    "        if i.isalnum():\n",
    "            y.append(i)\n",
    "            \n",
    "    text = y[:]\n",
    "    y.clear()\n",
    "    for i in text:\n",
    "        if i not in stopwords.words('english') and i not in string.punctuation:\n",
    "            y.append(i)\n",
    "            \n",
    "    text = y[:]\n",
    "    y.clear()\n",
    "    for i in text:\n",
    "        y.append(ps.stem(i))\n",
    "    return \" \".join(y)"
   ]
  },
  {
   "cell_type": "code",
   "execution_count": 21,
   "id": "ec996d8c",
   "metadata": {},
   "outputs": [
    {
     "data": {
      "text/plain": [
       "'new 23 email reveal warm relationship kamala harri big tech'"
      ]
     },
     "execution_count": 21,
     "metadata": {},
     "output_type": "execute_result"
    }
   ],
   "source": [
    "transform_text('New 23 Emails Reveal Warm Relationship Between Kamala Harris And Big Tech')"
   ]
  },
  {
   "cell_type": "markdown",
   "id": "756c42b2",
   "metadata": {},
   "source": [
    "### applying above coad on whole data"
   ]
  },
  {
   "cell_type": "code",
   "execution_count": 22,
   "id": "1c6ee37a",
   "metadata": {},
   "outputs": [],
   "source": [
    "# above coad apply on our whole data\n",
    "df['transform_text'] = df['text'].apply(transform_text)"
   ]
  },
  {
   "cell_type": "code",
   "execution_count": 23,
   "id": "24adccfa",
   "metadata": {},
   "outputs": [
    {
     "data": {
      "text/html": [
       "<div>\n",
       "<style scoped>\n",
       "    .dataframe tbody tr th:only-of-type {\n",
       "        vertical-align: middle;\n",
       "    }\n",
       "\n",
       "    .dataframe tbody tr th {\n",
       "        vertical-align: top;\n",
       "    }\n",
       "\n",
       "    .dataframe thead th {\n",
       "        text-align: right;\n",
       "    }\n",
       "</style>\n",
       "<table border=\"1\" class=\"dataframe\">\n",
       "  <thead>\n",
       "    <tr style=\"text-align: right;\">\n",
       "      <th></th>\n",
       "      <th>text</th>\n",
       "      <th>target</th>\n",
       "      <th>transform_text</th>\n",
       "    </tr>\n",
       "  </thead>\n",
       "  <tbody>\n",
       "    <tr>\n",
       "      <th>0</th>\n",
       "      <td>CNN Triumphs (At Least in Most Demographic Cat...</td>\n",
       "      <td>0</td>\n",
       "      <td>cnn triumph least demograph categori</td>\n",
       "    </tr>\n",
       "    <tr>\n",
       "      <th>1</th>\n",
       "      <td>‘You Did The Best You Could,’ Says Iron Man Ac...</td>\n",
       "      <td>1</td>\n",
       "      <td>best could say iron man action figur voic desp...</td>\n",
       "    </tr>\n",
       "    <tr>\n",
       "      <th>2</th>\n",
       "      <td>New Emails Reveal Warm Relationship Between Ka...</td>\n",
       "      <td>0</td>\n",
       "      <td>new email reveal warm relationship kamala harr...</td>\n",
       "    </tr>\n",
       "    <tr>\n",
       "      <th>3</th>\n",
       "      <td>Donald Trump Jr. Gets Slammed Over Racist Birt...</td>\n",
       "      <td>0</td>\n",
       "      <td>donald trump get slam racist birther bot attac...</td>\n",
       "    </tr>\n",
       "    <tr>\n",
       "      <th>4</th>\n",
       "      <td>God Urges Rick Perry Not To Run For President</td>\n",
       "      <td>1</td>\n",
       "      <td>god urg rick perri run presid</td>\n",
       "    </tr>\n",
       "    <tr>\n",
       "      <th>5</th>\n",
       "      <td>Global Aid Pours into Haiti</td>\n",
       "      <td>0</td>\n",
       "      <td>global aid pour haiti</td>\n",
       "    </tr>\n",
       "    <tr>\n",
       "      <th>6</th>\n",
       "      <td>CNN Anchor Calls Obama Protester 'Rude' And 'C...</td>\n",
       "      <td>0</td>\n",
       "      <td>cnn anchor call obama protest</td>\n",
       "    </tr>\n",
       "    <tr>\n",
       "      <th>7</th>\n",
       "      <td>Federal Prisons Reinstitute Executions By Leth...</td>\n",
       "      <td>1</td>\n",
       "      <td>feder prison reinstitut execut lethal inflat</td>\n",
       "    </tr>\n",
       "    <tr>\n",
       "      <th>8</th>\n",
       "      <td>Lou Dobbs Crumbles When Pressed On His 'NAFTA ...</td>\n",
       "      <td>0</td>\n",
       "      <td>lou dobb crumbl press super highway myth</td>\n",
       "    </tr>\n",
       "    <tr>\n",
       "      <th>9</th>\n",
       "      <td>CNN Still Bent On Debating 'Two Sides' Of The ...</td>\n",
       "      <td>0</td>\n",
       "      <td>cnn still bent debat side confederaci</td>\n",
       "    </tr>\n",
       "  </tbody>\n",
       "</table>\n",
       "</div>"
      ],
      "text/plain": [
       "                                                text  target  \\\n",
       "0  CNN Triumphs (At Least in Most Demographic Cat...       0   \n",
       "1  ‘You Did The Best You Could,’ Says Iron Man Ac...       1   \n",
       "2  New Emails Reveal Warm Relationship Between Ka...       0   \n",
       "3  Donald Trump Jr. Gets Slammed Over Racist Birt...       0   \n",
       "4      God Urges Rick Perry Not To Run For President       1   \n",
       "5                        Global Aid Pours into Haiti       0   \n",
       "6  CNN Anchor Calls Obama Protester 'Rude' And 'C...       0   \n",
       "7  Federal Prisons Reinstitute Executions By Leth...       1   \n",
       "8  Lou Dobbs Crumbles When Pressed On His 'NAFTA ...       0   \n",
       "9  CNN Still Bent On Debating 'Two Sides' Of The ...       0   \n",
       "\n",
       "                                      transform_text  \n",
       "0               cnn triumph least demograph categori  \n",
       "1  best could say iron man action figur voic desp...  \n",
       "2  new email reveal warm relationship kamala harr...  \n",
       "3  donald trump get slam racist birther bot attac...  \n",
       "4                      god urg rick perri run presid  \n",
       "5                              global aid pour haiti  \n",
       "6                      cnn anchor call obama protest  \n",
       "7       feder prison reinstitut execut lethal inflat  \n",
       "8           lou dobb crumbl press super highway myth  \n",
       "9              cnn still bent debat side confederaci  "
      ]
     },
     "execution_count": 23,
     "metadata": {},
     "output_type": "execute_result"
    }
   ],
   "source": [
    "df.head(10)"
   ]
  },
  {
   "cell_type": "code",
   "execution_count": 24,
   "id": "ae8d11f4",
   "metadata": {},
   "outputs": [],
   "source": [
    "df = df[['target','transform_text']]"
   ]
  },
  {
   "cell_type": "code",
   "execution_count": 25,
   "id": "fd48f37f",
   "metadata": {},
   "outputs": [
    {
     "data": {
      "text/html": [
       "<div>\n",
       "<style scoped>\n",
       "    .dataframe tbody tr th:only-of-type {\n",
       "        vertical-align: middle;\n",
       "    }\n",
       "\n",
       "    .dataframe tbody tr th {\n",
       "        vertical-align: top;\n",
       "    }\n",
       "\n",
       "    .dataframe thead th {\n",
       "        text-align: right;\n",
       "    }\n",
       "</style>\n",
       "<table border=\"1\" class=\"dataframe\">\n",
       "  <thead>\n",
       "    <tr style=\"text-align: right;\">\n",
       "      <th></th>\n",
       "      <th>target</th>\n",
       "      <th>transform_text</th>\n",
       "    </tr>\n",
       "  </thead>\n",
       "  <tbody>\n",
       "    <tr>\n",
       "      <th>0</th>\n",
       "      <td>0</td>\n",
       "      <td>cnn triumph least demograph categori</td>\n",
       "    </tr>\n",
       "    <tr>\n",
       "      <th>1</th>\n",
       "      <td>1</td>\n",
       "      <td>best could say iron man action figur voic desp...</td>\n",
       "    </tr>\n",
       "    <tr>\n",
       "      <th>2</th>\n",
       "      <td>0</td>\n",
       "      <td>new email reveal warm relationship kamala harr...</td>\n",
       "    </tr>\n",
       "    <tr>\n",
       "      <th>3</th>\n",
       "      <td>0</td>\n",
       "      <td>donald trump get slam racist birther bot attac...</td>\n",
       "    </tr>\n",
       "    <tr>\n",
       "      <th>4</th>\n",
       "      <td>1</td>\n",
       "      <td>god urg rick perri run presid</td>\n",
       "    </tr>\n",
       "    <tr>\n",
       "      <th>5</th>\n",
       "      <td>0</td>\n",
       "      <td>global aid pour haiti</td>\n",
       "    </tr>\n",
       "    <tr>\n",
       "      <th>6</th>\n",
       "      <td>0</td>\n",
       "      <td>cnn anchor call obama protest</td>\n",
       "    </tr>\n",
       "    <tr>\n",
       "      <th>7</th>\n",
       "      <td>1</td>\n",
       "      <td>feder prison reinstitut execut lethal inflat</td>\n",
       "    </tr>\n",
       "    <tr>\n",
       "      <th>8</th>\n",
       "      <td>0</td>\n",
       "      <td>lou dobb crumbl press super highway myth</td>\n",
       "    </tr>\n",
       "    <tr>\n",
       "      <th>9</th>\n",
       "      <td>0</td>\n",
       "      <td>cnn still bent debat side confederaci</td>\n",
       "    </tr>\n",
       "  </tbody>\n",
       "</table>\n",
       "</div>"
      ],
      "text/plain": [
       "   target                                     transform_text\n",
       "0       0               cnn triumph least demograph categori\n",
       "1       1  best could say iron man action figur voic desp...\n",
       "2       0  new email reveal warm relationship kamala harr...\n",
       "3       0  donald trump get slam racist birther bot attac...\n",
       "4       1                      god urg rick perri run presid\n",
       "5       0                              global aid pour haiti\n",
       "6       0                      cnn anchor call obama protest\n",
       "7       1       feder prison reinstitut execut lethal inflat\n",
       "8       0           lou dobb crumbl press super highway myth\n",
       "9       0              cnn still bent debat side confederaci"
      ]
     },
     "execution_count": 25,
     "metadata": {},
     "output_type": "execute_result"
    }
   ],
   "source": [
    "df.head(10)"
   ]
  },
  {
   "cell_type": "markdown",
   "id": "52a3b53a",
   "metadata": {},
   "source": [
    "### converting text into numaric form"
   ]
  },
  {
   "cell_type": "code",
   "execution_count": 26,
   "id": "b119ff35",
   "metadata": {},
   "outputs": [],
   "source": [
    "# converting this text into numarical form \n",
    "from sklearn.feature_extraction.text import CountVectorizer\n",
    "cv = CountVectorizer()"
   ]
  },
  {
   "cell_type": "code",
   "execution_count": 27,
   "id": "ed5d8eef",
   "metadata": {},
   "outputs": [],
   "source": [
    "X = cv.fit_transform(df['transform_text']).toarray()"
   ]
  },
  {
   "cell_type": "code",
   "execution_count": 28,
   "id": "234d761a",
   "metadata": {},
   "outputs": [],
   "source": [
    "y = df['target'].values"
   ]
  },
  {
   "cell_type": "code",
   "execution_count": 29,
   "id": "087cc4a4",
   "metadata": {},
   "outputs": [
    {
     "data": {
      "text/plain": [
       "((12506, 11585), (12506,))"
      ]
     },
     "execution_count": 29,
     "metadata": {},
     "output_type": "execute_result"
    }
   ],
   "source": [
    "X.shape,y.shape"
   ]
  },
  {
   "cell_type": "markdown",
   "id": "9c4f57ca",
   "metadata": {},
   "source": [
    "### train test split"
   ]
  },
  {
   "cell_type": "code",
   "execution_count": 30,
   "id": "da7e03b4",
   "metadata": {},
   "outputs": [],
   "source": [
    "# train test split :\n",
    "from sklearn.model_selection import train_test_split\n",
    "X_train,X_test,y_train ,y_test = train_test_split(X,y,test_size=0.2,random_state=2)"
   ]
  },
  {
   "cell_type": "code",
   "execution_count": 31,
   "id": "7d91af7e",
   "metadata": {},
   "outputs": [
    {
     "data": {
      "text/plain": [
       "((10004, 11585), (2502, 11585))"
      ]
     },
     "execution_count": 31,
     "metadata": {},
     "output_type": "execute_result"
    }
   ],
   "source": [
    "X_train.shape , X_test.shape"
   ]
  },
  {
   "cell_type": "code",
   "execution_count": 32,
   "id": "14b59528",
   "metadata": {},
   "outputs": [
    {
     "data": {
      "text/plain": [
       "array([[0, 0, 0, ..., 0, 0, 0],\n",
       "       [0, 0, 0, ..., 0, 0, 0],\n",
       "       [0, 0, 0, ..., 0, 0, 0],\n",
       "       ...,\n",
       "       [0, 0, 0, ..., 0, 0, 0],\n",
       "       [0, 0, 0, ..., 0, 0, 0],\n",
       "       [0, 0, 0, ..., 0, 0, 0]], dtype=int64)"
      ]
     },
     "execution_count": 32,
     "metadata": {},
     "output_type": "execute_result"
    }
   ],
   "source": [
    "X_train"
   ]
  },
  {
   "cell_type": "code",
   "execution_count": 43,
   "id": "f4e6b84a",
   "metadata": {},
   "outputs": [
    {
     "data": {
      "text/html": [
       "<div>\n",
       "<style scoped>\n",
       "    .dataframe tbody tr th:only-of-type {\n",
       "        vertical-align: middle;\n",
       "    }\n",
       "\n",
       "    .dataframe tbody tr th {\n",
       "        vertical-align: top;\n",
       "    }\n",
       "\n",
       "    .dataframe thead th {\n",
       "        text-align: right;\n",
       "    }\n",
       "</style>\n",
       "<table border=\"1\" class=\"dataframe\">\n",
       "  <thead>\n",
       "    <tr style=\"text-align: right;\">\n",
       "      <th></th>\n",
       "      <th>Model</th>\n",
       "      <th>accuracy</th>\n",
       "      <th>precision</th>\n",
       "      <th>recall</th>\n",
       "      <th>fi_score</th>\n",
       "    </tr>\n",
       "  </thead>\n",
       "  <tbody>\n",
       "  </tbody>\n",
       "</table>\n",
       "</div>"
      ],
      "text/plain": [
       "Empty DataFrame\n",
       "Columns: [Model, accuracy, precision, recall, fi_score]\n",
       "Index: []"
      ]
     },
     "execution_count": 43,
     "metadata": {},
     "output_type": "execute_result"
    }
   ],
   "source": [
    "metric_df = pd.DataFrame(columns=['Model','accuracy','precision','recall','fi_score'])\n",
    "metric_df"
   ]
  },
  {
   "cell_type": "code",
   "execution_count": 33,
   "id": "265bf224",
   "metadata": {},
   "outputs": [],
   "source": [
    "from sklearn.metrics import accuracy_score,confusion_matrix,precision_score,f1_score,recall_score\n",
    "from sklearn.naive_bayes import GaussianNB,MultinomialNB,BernoulliNB"
   ]
  },
  {
   "cell_type": "code",
   "execution_count": 46,
   "id": "507ad0cb",
   "metadata": {},
   "outputs": [],
   "source": [
    "from sklearn.metrics import confusion_matrix,accuracy_score,precision_score,recall_score,f1_score\n",
    "from sklearn import metrics"
   ]
  },
  {
   "cell_type": "code",
   "execution_count": 34,
   "id": "1b7e1780",
   "metadata": {},
   "outputs": [],
   "source": [
    "from sklearn.model_selection import train_test_split\n",
    "X_train,X_test,y_train,y_test=train_test_split(X,y,test_size=0.2,random_state=42)"
   ]
  },
  {
   "cell_type": "markdown",
   "id": "c20a3cee",
   "metadata": {},
   "source": [
    "### 1.naive_bayes"
   ]
  },
  {
   "cell_type": "code",
   "execution_count": 47,
   "id": "4d6be818",
   "metadata": {},
   "outputs": [
    {
     "name": "stdout",
     "output_type": "stream",
     "text": [
      "accuracy_score : 0.7266187050359713\n",
      "precision_score : 0.8064118372379778\n",
      "Recall :  0.5537679932260796\n",
      "f1_score : 0.6566265060240963\n"
     ]
    }
   ],
   "source": [
    "gnb=GaussianNB()\n",
    "gnb.fit(X_train,y_train)\n",
    "y_pred=gnb.predict(X_test)\n",
    "print('accuracy_score :',metrics.accuracy_score(y_test,y_pred))\n",
    "print('precision_score :',metrics.precision_score(y_test,y_pred))\n",
    "print(\"Recall : \",metrics.recall_score(y_test,y_pred))\n",
    "print('f1_score :',metrics.f1_score(y_test,y_pred))"
   ]
  },
  {
   "cell_type": "code",
   "execution_count": 48,
   "id": "6b0409a5",
   "metadata": {},
   "outputs": [
    {
     "data": {
      "text/html": [
       "<div>\n",
       "<style scoped>\n",
       "    .dataframe tbody tr th:only-of-type {\n",
       "        vertical-align: middle;\n",
       "    }\n",
       "\n",
       "    .dataframe tbody tr th {\n",
       "        vertical-align: top;\n",
       "    }\n",
       "\n",
       "    .dataframe thead th {\n",
       "        text-align: right;\n",
       "    }\n",
       "</style>\n",
       "<table border=\"1\" class=\"dataframe\">\n",
       "  <thead>\n",
       "    <tr style=\"text-align: right;\">\n",
       "      <th></th>\n",
       "      <th>Model</th>\n",
       "      <th>accuracy</th>\n",
       "      <th>precision</th>\n",
       "      <th>recall</th>\n",
       "      <th>fi_score</th>\n",
       "    </tr>\n",
       "  </thead>\n",
       "  <tbody>\n",
       "    <tr>\n",
       "      <th>0</th>\n",
       "      <td>Naive Bayes</td>\n",
       "      <td>0.726619</td>\n",
       "      <td>0.806412</td>\n",
       "      <td>0.553768</td>\n",
       "      <td>0.656627</td>\n",
       "    </tr>\n",
       "  </tbody>\n",
       "</table>\n",
       "</div>"
      ],
      "text/plain": [
       "         Model  accuracy  precision    recall  fi_score\n",
       "0  Naive Bayes  0.726619   0.806412  0.553768  0.656627"
      ]
     },
     "execution_count": 48,
     "metadata": {},
     "output_type": "execute_result"
    }
   ],
   "source": [
    "metric_df.loc[len(metric_df)] = (['Naive Bayes',metrics.accuracy_score(y_test,y_pred),metrics.precision_score(y_test,y_pred)\n",
    "                 ,metrics.recall_score(y_test,y_pred),metrics.f1_score(y_test,y_pred)])\n",
    "metric_df"
   ]
  },
  {
   "cell_type": "code",
   "execution_count": 51,
   "id": "187caf9d",
   "metadata": {},
   "outputs": [
    {
     "name": "stderr",
     "output_type": "stream",
     "text": [
      "C:\\Users\\hp\\anaconda3\\lib\\site-packages\\sklearn\\utils\\deprecation.py:87: FutureWarning: Function plot_confusion_matrix is deprecated; Function `plot_confusion_matrix` is deprecated in 1.0 and will be removed in 1.2. Use one of the class methods: ConfusionMatrixDisplay.from_predictions or ConfusionMatrixDisplay.from_estimator.\n",
      "  warnings.warn(msg, category=FutureWarning)\n"
     ]
    },
    {
     "data": {
      "text/plain": [
       "<sklearn.metrics._plot.confusion_matrix.ConfusionMatrixDisplay at 0x126b2b4e430>"
      ]
     },
     "execution_count": 51,
     "metadata": {},
     "output_type": "execute_result"
    },
    {
     "data": {
      "image/png": "[encoded data removed]",
      "text/plain": [
       "<Figure size 432x288 with 2 Axes>"
      ]
     },
     "metadata": {
      "needs_background": "light"
     },
     "output_type": "display_data"
    }
   ],
   "source": [
    "metrics.plot_confusion_matrix(gnb,X_test,y_test)"
   ]
  },
  {
   "cell_type": "markdown",
   "id": "00f9bdaa",
   "metadata": {},
   "source": [
    "### 2.MultinomialNB"
   ]
  },
  {
   "cell_type": "code",
   "execution_count": 52,
   "id": "1200df8c",
   "metadata": {},
   "outputs": [
    {
     "name": "stdout",
     "output_type": "stream",
     "text": [
      "accuracy_score : 0.7266187050359713\n",
      "precision_score : 0.8064118372379778\n",
      "Recall :  0.5537679932260796\n",
      "f1_score : 0.6566265060240963\n"
     ]
    }
   ],
   "source": [
    "mnb=MultinomialNB()\n",
    "mnb.fit(X_train,y_train)\n",
    "y_pred_2=mnb.predict(X_test)\n",
    "print('accuracy_score :',accuracy_score(y_test,y_pred))\n",
    "print('precision_score :',precision_score(y_test,y_pred))\n",
    "print(\"Recall : \",recall_score(y_test,y_pred))\n",
    "print('f1_score :',f1_score(y_test,y_pred))"
   ]
  },
  {
   "cell_type": "code",
   "execution_count": 53,
   "id": "244ae156",
   "metadata": {},
   "outputs": [
    {
     "name": "stderr",
     "output_type": "stream",
     "text": [
      "C:\\Users\\hp\\anaconda3\\lib\\site-packages\\sklearn\\utils\\deprecation.py:87: FutureWarning: Function plot_confusion_matrix is deprecated; Function `plot_confusion_matrix` is deprecated in 1.0 and will be removed in 1.2. Use one of the class methods: ConfusionMatrixDisplay.from_predictions or ConfusionMatrixDisplay.from_estimator.\n",
      "  warnings.warn(msg, category=FutureWarning)\n"
     ]
    },
    {
     "data": {
      "text/plain": [
       "<sklearn.metrics._plot.confusion_matrix.ConfusionMatrixDisplay at 0x12634956460>"
      ]
     },
     "execution_count": 53,
     "metadata": {},
     "output_type": "execute_result"
    },
    {
     "data": {
      "image/png": "[encoded data removed]",
      "text/plain": [
       "<Figure size 432x288 with 2 Axes>"
      ]
     },
     "metadata": {
      "needs_background": "light"
     },
     "output_type": "display_data"
    }
   ],
   "source": [
    "metrics.plot_confusion_matrix(mnb,X_test,y_test)"
   ]
  },
  {
   "cell_type": "code",
   "execution_count": 54,
   "id": "a227592b",
   "metadata": {},
   "outputs": [
    {
     "data": {
      "text/html": [
       "<div>\n",
       "<style scoped>\n",
       "    .dataframe tbody tr th:only-of-type {\n",
       "        vertical-align: middle;\n",
       "    }\n",
       "\n",
       "    .dataframe tbody tr th {\n",
       "        vertical-align: top;\n",
       "    }\n",
       "\n",
       "    .dataframe thead th {\n",
       "        text-align: right;\n",
       "    }\n",
       "</style>\n",
       "<table border=\"1\" class=\"dataframe\">\n",
       "  <thead>\n",
       "    <tr style=\"text-align: right;\">\n",
       "      <th></th>\n",
       "      <th>Model</th>\n",
       "      <th>accuracy</th>\n",
       "      <th>precision</th>\n",
       "      <th>recall</th>\n",
       "      <th>fi_score</th>\n",
       "    </tr>\n",
       "  </thead>\n",
       "  <tbody>\n",
       "    <tr>\n",
       "      <th>0</th>\n",
       "      <td>Naive Bayes</td>\n",
       "      <td>0.726619</td>\n",
       "      <td>0.806412</td>\n",
       "      <td>0.553768</td>\n",
       "      <td>0.656627</td>\n",
       "    </tr>\n",
       "    <tr>\n",
       "      <th>1</th>\n",
       "      <td>MultinomialNB</td>\n",
       "      <td>0.726619</td>\n",
       "      <td>0.806412</td>\n",
       "      <td>0.553768</td>\n",
       "      <td>0.656627</td>\n",
       "    </tr>\n",
       "  </tbody>\n",
       "</table>\n",
       "</div>"
      ],
      "text/plain": [
       "           Model  accuracy  precision    recall  fi_score\n",
       "0    Naive Bayes  0.726619   0.806412  0.553768  0.656627\n",
       "1  MultinomialNB  0.726619   0.806412  0.553768  0.656627"
      ]
     },
     "execution_count": 54,
     "metadata": {},
     "output_type": "execute_result"
    }
   ],
   "source": [
    "metric_df.loc[len(metric_df)] = (['MultinomialNB',metrics.accuracy_score(y_test,y_pred),metrics.precision_score(y_test,y_pred)\n",
    "                 ,metrics.recall_score(y_test,y_pred),metrics.f1_score(y_test,y_pred)])\n",
    "metric_df"
   ]
  },
  {
   "cell_type": "markdown",
   "id": "329a7f7b",
   "metadata": {},
   "source": [
    "### 3.BernoulliNB"
   ]
  },
  {
   "cell_type": "code",
   "execution_count": 55,
   "id": "362be25f",
   "metadata": {},
   "outputs": [
    {
     "name": "stdout",
     "output_type": "stream",
     "text": [
      "accuracy_score : 0.7266187050359713\n",
      "precision_score : 0.8064118372379778\n",
      "Recall :  0.5537679932260796\n",
      "f1_score : 0.6566265060240963\n"
     ]
    }
   ],
   "source": [
    "bnb=BernoulliNB()\n",
    "bnb.fit(X_train,y_train)\n",
    "y_pred_3=bnb.predict(X_test)\n",
    "print('accuracy_score :',accuracy_score(y_test,y_pred))\n",
    "print('precision_score :',precision_score(y_test,y_pred))\n",
    "print(\"Recall : \",recall_score(y_test,y_pred))\n",
    "print('f1_score :',f1_score(y_test,y_pred))"
   ]
  },
  {
   "cell_type": "code",
   "execution_count": 56,
   "id": "683d379b",
   "metadata": {},
   "outputs": [
    {
     "name": "stderr",
     "output_type": "stream",
     "text": [
      "C:\\Users\\hp\\anaconda3\\lib\\site-packages\\sklearn\\utils\\deprecation.py:87: FutureWarning: Function plot_confusion_matrix is deprecated; Function `plot_confusion_matrix` is deprecated in 1.0 and will be removed in 1.2. Use one of the class methods: ConfusionMatrixDisplay.from_predictions or ConfusionMatrixDisplay.from_estimator.\n",
      "  warnings.warn(msg, category=FutureWarning)\n"
     ]
    },
    {
     "data": {
      "text/plain": [
       "<sklearn.metrics._plot.confusion_matrix.ConfusionMatrixDisplay at 0x126b29fd610>"
      ]
     },
     "execution_count": 56,
     "metadata": {},
     "output_type": "execute_result"
    },
    {
     "data": {
      "image/png": "[encoded data removed]",
      "text/plain": [
       "<Figure size 432x288 with 2 Axes>"
      ]
     },
     "metadata": {
      "needs_background": "light"
     },
     "output_type": "display_data"
    }
   ],
   "source": [
    "metrics.plot_confusion_matrix(bnb,X_test,y_test)"
   ]
  },
  {
   "cell_type": "code",
   "execution_count": 57,
   "id": "d1470241",
   "metadata": {},
   "outputs": [
    {
     "data": {
      "text/html": [
       "<div>\n",
       "<style scoped>\n",
       "    .dataframe tbody tr th:only-of-type {\n",
       "        vertical-align: middle;\n",
       "    }\n",
       "\n",
       "    .dataframe tbody tr th {\n",
       "        vertical-align: top;\n",
       "    }\n",
       "\n",
       "    .dataframe thead th {\n",
       "        text-align: right;\n",
       "    }\n",
       "</style>\n",
       "<table border=\"1\" class=\"dataframe\">\n",
       "  <thead>\n",
       "    <tr style=\"text-align: right;\">\n",
       "      <th></th>\n",
       "      <th>Model</th>\n",
       "      <th>accuracy</th>\n",
       "      <th>precision</th>\n",
       "      <th>recall</th>\n",
       "      <th>fi_score</th>\n",
       "    </tr>\n",
       "  </thead>\n",
       "  <tbody>\n",
       "    <tr>\n",
       "      <th>0</th>\n",
       "      <td>Naive Bayes</td>\n",
       "      <td>0.726619</td>\n",
       "      <td>0.806412</td>\n",
       "      <td>0.553768</td>\n",
       "      <td>0.656627</td>\n",
       "    </tr>\n",
       "    <tr>\n",
       "      <th>1</th>\n",
       "      <td>MultinomialNB</td>\n",
       "      <td>0.726619</td>\n",
       "      <td>0.806412</td>\n",
       "      <td>0.553768</td>\n",
       "      <td>0.656627</td>\n",
       "    </tr>\n",
       "    <tr>\n",
       "      <th>2</th>\n",
       "      <td>BernoulliNB</td>\n",
       "      <td>0.726619</td>\n",
       "      <td>0.806412</td>\n",
       "      <td>0.553768</td>\n",
       "      <td>0.656627</td>\n",
       "    </tr>\n",
       "  </tbody>\n",
       "</table>\n",
       "</div>"
      ],
      "text/plain": [
       "           Model  accuracy  precision    recall  fi_score\n",
       "0    Naive Bayes  0.726619   0.806412  0.553768  0.656627\n",
       "1  MultinomialNB  0.726619   0.806412  0.553768  0.656627\n",
       "2    BernoulliNB  0.726619   0.806412  0.553768  0.656627"
      ]
     },
     "execution_count": 57,
     "metadata": {},
     "output_type": "execute_result"
    }
   ],
   "source": [
    "metric_df.loc[len(metric_df)] = (['BernoulliNB',metrics.accuracy_score(y_test,y_pred),metrics.precision_score(y_test,y_pred)\n",
    "                 ,metrics.recall_score(y_test,y_pred),metrics.f1_score(y_test,y_pred)])\n",
    "metric_df"
   ]
  },
  {
   "cell_type": "code",
   "execution_count": 38,
   "id": "7a25b49d",
   "metadata": {},
   "outputs": [
    {
     "name": "stdout",
     "output_type": "stream",
     "text": [
      "Requirement already satisfied: xgboost in c:\\users\\hp\\anaconda3\\lib\\site-packages (1.7.0)\n",
      "Requirement already satisfied: numpy in c:\\users\\hp\\anaconda3\\lib\\site-packages (from xgboost) (1.21.5)\n",
      "Requirement already satisfied: scipy in c:\\users\\hp\\anaconda3\\lib\\site-packages (from xgboost) (1.7.3)\n"
     ]
    }
   ],
   "source": [
    "!pip install xgboost"
   ]
  },
  {
   "cell_type": "markdown",
   "id": "8c8ae956",
   "metadata": {},
   "source": [
    "### 4.Logistic regression"
   ]
  },
  {
   "cell_type": "code",
   "execution_count": 65,
   "id": "32fb2eb7",
   "metadata": {},
   "outputs": [
    {
     "name": "stdout",
     "output_type": "stream",
     "text": [
      "accuracy_score : 0.8645083932853717\n",
      "precision_score : 0.8473597359735974\n",
      "Recall :  0.869602032176122\n",
      "f1_score : 0.8583368157124949\n"
     ]
    }
   ],
   "source": [
    "from sklearn.linear_model import LogisticRegression\n",
    "lg = LogisticRegression()\n",
    "lg.fit(X_train,y_train)\n",
    "y_pred = lg.predict(X_test)\n",
    "print('accuracy_score :',accuracy_score(y_test,y_pred))\n",
    "print('precision_score :',precision_score(y_test,y_pred))\n",
    "print(\"Recall : \",recall_score(y_test,y_pred))\n",
    "print('f1_score :',f1_score(y_test,y_pred))"
   ]
  },
  {
   "cell_type": "code",
   "execution_count": 59,
   "id": "7e4d5394",
   "metadata": {},
   "outputs": [
    {
     "name": "stderr",
     "output_type": "stream",
     "text": [
      "C:\\Users\\hp\\anaconda3\\lib\\site-packages\\sklearn\\utils\\deprecation.py:87: FutureWarning: Function plot_confusion_matrix is deprecated; Function `plot_confusion_matrix` is deprecated in 1.0 and will be removed in 1.2. Use one of the class methods: ConfusionMatrixDisplay.from_predictions or ConfusionMatrixDisplay.from_estimator.\n",
      "  warnings.warn(msg, category=FutureWarning)\n"
     ]
    },
    {
     "data": {
      "text/plain": [
       "<sklearn.metrics._plot.confusion_matrix.ConfusionMatrixDisplay at 0x126b2a63580>"
      ]
     },
     "execution_count": 59,
     "metadata": {},
     "output_type": "execute_result"
    },
    {
     "data": {
      "image/png": "[encoded data removed]",
      "text/plain": [
       "<Figure size 432x288 with 2 Axes>"
      ]
     },
     "metadata": {
      "needs_background": "light"
     },
     "output_type": "display_data"
    }
   ],
   "source": [
    "metrics.plot_confusion_matrix(lg,X_test,y_test)"
   ]
  },
  {
   "cell_type": "code",
   "execution_count": 63,
   "id": "7ef2d3a0",
   "metadata": {},
   "outputs": [
    {
     "data": {
      "text/html": [
       "<div>\n",
       "<style scoped>\n",
       "    .dataframe tbody tr th:only-of-type {\n",
       "        vertical-align: middle;\n",
       "    }\n",
       "\n",
       "    .dataframe tbody tr th {\n",
       "        vertical-align: top;\n",
       "    }\n",
       "\n",
       "    .dataframe thead th {\n",
       "        text-align: right;\n",
       "    }\n",
       "</style>\n",
       "<table border=\"1\" class=\"dataframe\">\n",
       "  <thead>\n",
       "    <tr style=\"text-align: right;\">\n",
       "      <th></th>\n",
       "      <th>Model</th>\n",
       "      <th>accuracy</th>\n",
       "      <th>precision</th>\n",
       "      <th>recall</th>\n",
       "      <th>fi_score</th>\n",
       "    </tr>\n",
       "  </thead>\n",
       "  <tbody>\n",
       "    <tr>\n",
       "      <th>0</th>\n",
       "      <td>Naive Bayes</td>\n",
       "      <td>0.726619</td>\n",
       "      <td>0.806412</td>\n",
       "      <td>0.553768</td>\n",
       "      <td>0.656627</td>\n",
       "    </tr>\n",
       "    <tr>\n",
       "      <th>1</th>\n",
       "      <td>MultinomialNB</td>\n",
       "      <td>0.726619</td>\n",
       "      <td>0.806412</td>\n",
       "      <td>0.553768</td>\n",
       "      <td>0.656627</td>\n",
       "    </tr>\n",
       "    <tr>\n",
       "      <th>2</th>\n",
       "      <td>BernoulliNB</td>\n",
       "      <td>0.726619</td>\n",
       "      <td>0.806412</td>\n",
       "      <td>0.553768</td>\n",
       "      <td>0.656627</td>\n",
       "    </tr>\n",
       "    <tr>\n",
       "      <th>3</th>\n",
       "      <td>Log_regression</td>\n",
       "      <td>0.726619</td>\n",
       "      <td>0.806412</td>\n",
       "      <td>0.553768</td>\n",
       "      <td>0.656627</td>\n",
       "    </tr>\n",
       "  </tbody>\n",
       "</table>\n",
       "</div>"
      ],
      "text/plain": [
       "            Model  accuracy  precision    recall  fi_score\n",
       "0     Naive Bayes  0.726619   0.806412  0.553768  0.656627\n",
       "1   MultinomialNB  0.726619   0.806412  0.553768  0.656627\n",
       "2     BernoulliNB  0.726619   0.806412  0.553768  0.656627\n",
       "3  Log_regression  0.726619   0.806412  0.553768  0.656627"
      ]
     },
     "execution_count": 63,
     "metadata": {},
     "output_type": "execute_result"
    }
   ],
   "source": [
    "metric_df.loc[len(metric_df)] = (['Log_regression',metrics.accuracy_score(y_test,y_pred),metrics.precision_score(y_test,y_pred)\n",
    "                 ,metrics.recall_score(y_test,y_pred),metrics.f1_score(y_test,y_pred)])\n",
    "metric_df"
   ]
  },
  {
   "cell_type": "markdown",
   "id": "3acd1c8e",
   "metadata": {},
   "source": [
    "### 5.SVM"
   ]
  },
  {
   "cell_type": "code",
   "execution_count": 66,
   "id": "352e6873",
   "metadata": {},
   "outputs": [
    {
     "name": "stdout",
     "output_type": "stream",
     "text": [
      "accuracy_score : 0.8645083932853717\n",
      "precision_score : 0.8473597359735974\n",
      "Recall :  0.869602032176122\n",
      "f1_score : 0.8583368157124949\n"
     ]
    }
   ],
   "source": [
    "from sklearn.svm import SVC\n",
    "svc = LogisticRegression()\n",
    "svc.fit(X_train,y_train)\n",
    "y_pred = svc.predict(X_test)\n",
    "print('accuracy_score :',accuracy_score(y_test,y_pred))\n",
    "print('precision_score :',precision_score(y_test,y_pred))\n",
    "print(\"Recall : \",recall_score(y_test,y_pred))\n",
    "print('f1_score :',f1_score(y_test,y_pred))"
   ]
  },
  {
   "cell_type": "code",
   "execution_count": 67,
   "id": "b2208049",
   "metadata": {},
   "outputs": [
    {
     "name": "stderr",
     "output_type": "stream",
     "text": [
      "C:\\Users\\hp\\anaconda3\\lib\\site-packages\\sklearn\\utils\\deprecation.py:87: FutureWarning: Function plot_confusion_matrix is deprecated; Function `plot_confusion_matrix` is deprecated in 1.0 and will be removed in 1.2. Use one of the class methods: ConfusionMatrixDisplay.from_predictions or ConfusionMatrixDisplay.from_estimator.\n",
      "  warnings.warn(msg, category=FutureWarning)\n"
     ]
    },
    {
     "data": {
      "text/plain": [
       "<sklearn.metrics._plot.confusion_matrix.ConfusionMatrixDisplay at 0x126b441ad90>"
      ]
     },
     "execution_count": 67,
     "metadata": {},
     "output_type": "execute_result"
    },
    {
     "data": {
      "image/png": "[encoded data removed]",
      "text/plain": [
       "<Figure size 432x288 with 2 Axes>"
      ]
     },
     "metadata": {
      "needs_background": "light"
     },
     "output_type": "display_data"
    }
   ],
   "source": [
    "metrics.plot_confusion_matrix(svc,X_test,y_test)"
   ]
  },
  {
   "cell_type": "code",
   "execution_count": 68,
   "id": "488a43ba",
   "metadata": {},
   "outputs": [
    {
     "data": {
      "text/html": [
       "<div>\n",
       "<style scoped>\n",
       "    .dataframe tbody tr th:only-of-type {\n",
       "        vertical-align: middle;\n",
       "    }\n",
       "\n",
       "    .dataframe tbody tr th {\n",
       "        vertical-align: top;\n",
       "    }\n",
       "\n",
       "    .dataframe thead th {\n",
       "        text-align: right;\n",
       "    }\n",
       "</style>\n",
       "<table border=\"1\" class=\"dataframe\">\n",
       "  <thead>\n",
       "    <tr style=\"text-align: right;\">\n",
       "      <th></th>\n",
       "      <th>Model</th>\n",
       "      <th>accuracy</th>\n",
       "      <th>precision</th>\n",
       "      <th>recall</th>\n",
       "      <th>fi_score</th>\n",
       "    </tr>\n",
       "  </thead>\n",
       "  <tbody>\n",
       "    <tr>\n",
       "      <th>0</th>\n",
       "      <td>Naive Bayes</td>\n",
       "      <td>0.726619</td>\n",
       "      <td>0.806412</td>\n",
       "      <td>0.553768</td>\n",
       "      <td>0.656627</td>\n",
       "    </tr>\n",
       "    <tr>\n",
       "      <th>1</th>\n",
       "      <td>MultinomialNB</td>\n",
       "      <td>0.726619</td>\n",
       "      <td>0.806412</td>\n",
       "      <td>0.553768</td>\n",
       "      <td>0.656627</td>\n",
       "    </tr>\n",
       "    <tr>\n",
       "      <th>2</th>\n",
       "      <td>BernoulliNB</td>\n",
       "      <td>0.726619</td>\n",
       "      <td>0.806412</td>\n",
       "      <td>0.553768</td>\n",
       "      <td>0.656627</td>\n",
       "    </tr>\n",
       "    <tr>\n",
       "      <th>3</th>\n",
       "      <td>Log_regression</td>\n",
       "      <td>0.726619</td>\n",
       "      <td>0.806412</td>\n",
       "      <td>0.553768</td>\n",
       "      <td>0.656627</td>\n",
       "    </tr>\n",
       "    <tr>\n",
       "      <th>4</th>\n",
       "      <td>svc</td>\n",
       "      <td>0.864508</td>\n",
       "      <td>0.847360</td>\n",
       "      <td>0.869602</td>\n",
       "      <td>0.858337</td>\n",
       "    </tr>\n",
       "  </tbody>\n",
       "</table>\n",
       "</div>"
      ],
      "text/plain": [
       "            Model  accuracy  precision    recall  fi_score\n",
       "0     Naive Bayes  0.726619   0.806412  0.553768  0.656627\n",
       "1   MultinomialNB  0.726619   0.806412  0.553768  0.656627\n",
       "2     BernoulliNB  0.726619   0.806412  0.553768  0.656627\n",
       "3  Log_regression  0.726619   0.806412  0.553768  0.656627\n",
       "4             svc  0.864508   0.847360  0.869602  0.858337"
      ]
     },
     "execution_count": 68,
     "metadata": {},
     "output_type": "execute_result"
    }
   ],
   "source": [
    "metric_df.loc[len(metric_df)] = (['svc',metrics.accuracy_score(y_test,y_pred),metrics.precision_score(y_test,y_pred)\n",
    "                 ,metrics.recall_score(y_test,y_pred),metrics.f1_score(y_test,y_pred)])\n",
    "metric_df"
   ]
  },
  {
   "cell_type": "markdown",
   "id": "f68fd552",
   "metadata": {},
   "source": [
    "### 6.Decision tree"
   ]
  },
  {
   "cell_type": "code",
   "execution_count": 71,
   "id": "5a8fe49c",
   "metadata": {},
   "outputs": [
    {
     "name": "stdout",
     "output_type": "stream",
     "text": [
      "accuracy_score : 0.8089528377298162\n",
      "precision_score : 0.8102383053839365\n",
      "Recall :  0.777307366638442\n",
      "f1_score : 0.7934312878133103\n"
     ]
    }
   ],
   "source": [
    "from sklearn.tree import DecisionTreeClassifier\n",
    "dt = DecisionTreeClassifier()\n",
    "dt.fit(X_train,y_train)\n",
    "y_pred = dt.predict(X_test)\n",
    "print('accuracy_score :',accuracy_score(y_test,y_pred))\n",
    "print('precision_score :',precision_score(y_test,y_pred))\n",
    "print(\"Recall : \",recall_score(y_test,y_pred))\n",
    "print('f1_score :',f1_score(y_test,y_pred))"
   ]
  },
  {
   "cell_type": "code",
   "execution_count": 72,
   "id": "ac3e952b",
   "metadata": {},
   "outputs": [
    {
     "name": "stderr",
     "output_type": "stream",
     "text": [
      "C:\\Users\\hp\\anaconda3\\lib\\site-packages\\sklearn\\utils\\deprecation.py:87: FutureWarning: Function plot_confusion_matrix is deprecated; Function `plot_confusion_matrix` is deprecated in 1.0 and will be removed in 1.2. Use one of the class methods: ConfusionMatrixDisplay.from_predictions or ConfusionMatrixDisplay.from_estimator.\n",
      "  warnings.warn(msg, category=FutureWarning)\n"
     ]
    },
    {
     "data": {
      "text/plain": [
       "<sklearn.metrics._plot.confusion_matrix.ConfusionMatrixDisplay at 0x126b3cfd1f0>"
      ]
     },
     "execution_count": 72,
     "metadata": {},
     "output_type": "execute_result"
    },
    {
     "data": {
      "image/png": "[encoded data removed]",
      "text/plain": [
       "<Figure size 432x288 with 2 Axes>"
      ]
     },
     "metadata": {
      "needs_background": "light"
     },
     "output_type": "display_data"
    }
   ],
   "source": [
    "metrics.plot_confusion_matrix(dt,X_test,y_test)"
   ]
  },
  {
   "cell_type": "code",
   "execution_count": 73,
   "id": "d230fbb7",
   "metadata": {},
   "outputs": [
    {
     "data": {
      "text/html": [
       "<div>\n",
       "<style scoped>\n",
       "    .dataframe tbody tr th:only-of-type {\n",
       "        vertical-align: middle;\n",
       "    }\n",
       "\n",
       "    .dataframe tbody tr th {\n",
       "        vertical-align: top;\n",
       "    }\n",
       "\n",
       "    .dataframe thead th {\n",
       "        text-align: right;\n",
       "    }\n",
       "</style>\n",
       "<table border=\"1\" class=\"dataframe\">\n",
       "  <thead>\n",
       "    <tr style=\"text-align: right;\">\n",
       "      <th></th>\n",
       "      <th>Model</th>\n",
       "      <th>accuracy</th>\n",
       "      <th>precision</th>\n",
       "      <th>recall</th>\n",
       "      <th>fi_score</th>\n",
       "    </tr>\n",
       "  </thead>\n",
       "  <tbody>\n",
       "    <tr>\n",
       "      <th>0</th>\n",
       "      <td>Naive Bayes</td>\n",
       "      <td>0.726619</td>\n",
       "      <td>0.806412</td>\n",
       "      <td>0.553768</td>\n",
       "      <td>0.656627</td>\n",
       "    </tr>\n",
       "    <tr>\n",
       "      <th>1</th>\n",
       "      <td>MultinomialNB</td>\n",
       "      <td>0.726619</td>\n",
       "      <td>0.806412</td>\n",
       "      <td>0.553768</td>\n",
       "      <td>0.656627</td>\n",
       "    </tr>\n",
       "    <tr>\n",
       "      <th>2</th>\n",
       "      <td>BernoulliNB</td>\n",
       "      <td>0.726619</td>\n",
       "      <td>0.806412</td>\n",
       "      <td>0.553768</td>\n",
       "      <td>0.656627</td>\n",
       "    </tr>\n",
       "    <tr>\n",
       "      <th>3</th>\n",
       "      <td>Log_regression</td>\n",
       "      <td>0.726619</td>\n",
       "      <td>0.806412</td>\n",
       "      <td>0.553768</td>\n",
       "      <td>0.656627</td>\n",
       "    </tr>\n",
       "    <tr>\n",
       "      <th>4</th>\n",
       "      <td>svc</td>\n",
       "      <td>0.864508</td>\n",
       "      <td>0.847360</td>\n",
       "      <td>0.869602</td>\n",
       "      <td>0.858337</td>\n",
       "    </tr>\n",
       "    <tr>\n",
       "      <th>5</th>\n",
       "      <td>D_Tree</td>\n",
       "      <td>0.808953</td>\n",
       "      <td>0.810238</td>\n",
       "      <td>0.777307</td>\n",
       "      <td>0.793431</td>\n",
       "    </tr>\n",
       "  </tbody>\n",
       "</table>\n",
       "</div>"
      ],
      "text/plain": [
       "            Model  accuracy  precision    recall  fi_score\n",
       "0     Naive Bayes  0.726619   0.806412  0.553768  0.656627\n",
       "1   MultinomialNB  0.726619   0.806412  0.553768  0.656627\n",
       "2     BernoulliNB  0.726619   0.806412  0.553768  0.656627\n",
       "3  Log_regression  0.726619   0.806412  0.553768  0.656627\n",
       "4             svc  0.864508   0.847360  0.869602  0.858337\n",
       "5          D_Tree  0.808953   0.810238  0.777307  0.793431"
      ]
     },
     "execution_count": 73,
     "metadata": {},
     "output_type": "execute_result"
    }
   ],
   "source": [
    "metric_df.loc[len(metric_df)] = (['D_Tree',metrics.accuracy_score(y_test,y_pred),metrics.precision_score(y_test,y_pred)\n",
    "                 ,metrics.recall_score(y_test,y_pred),metrics.f1_score(y_test,y_pred)])\n",
    "metric_df"
   ]
  },
  {
   "cell_type": "markdown",
   "id": "2b729f07",
   "metadata": {},
   "source": [
    "### 7.KNN"
   ]
  },
  {
   "cell_type": "code",
   "execution_count": 77,
   "id": "992ff832",
   "metadata": {},
   "outputs": [
    {
     "name": "stdout",
     "output_type": "stream",
     "text": [
      "accuracy_score : 0.5511590727418065\n",
      "precision_score : 0.967741935483871\n",
      "Recall :  0.05080440304826418\n",
      "f1_score : 0.09654062751407884\n"
     ]
    }
   ],
   "source": [
    "from sklearn.neighbors import KNeighborsClassifier\n",
    "knn = KNeighborsClassifier()\n",
    "knn.fit(X_train,y_train)\n",
    "y_pred = knn.predict(X_test)\n",
    "print('accuracy_score :',accuracy_score(y_test,y_pred))\n",
    "print('precision_score :',precision_score(y_test,y_pred))\n",
    "print(\"Recall : \",recall_score(y_test,y_pred))\n",
    "print('f1_score :',f1_score(y_test,y_pred))"
   ]
  },
  {
   "cell_type": "code",
   "execution_count": 75,
   "id": "7017918c",
   "metadata": {},
   "outputs": [
    {
     "name": "stderr",
     "output_type": "stream",
     "text": [
      "C:\\Users\\hp\\anaconda3\\lib\\site-packages\\sklearn\\utils\\deprecation.py:87: FutureWarning: Function plot_confusion_matrix is deprecated; Function `plot_confusion_matrix` is deprecated in 1.0 and will be removed in 1.2. Use one of the class methods: ConfusionMatrixDisplay.from_predictions or ConfusionMatrixDisplay.from_estimator.\n",
      "  warnings.warn(msg, category=FutureWarning)\n"
     ]
    },
    {
     "data": {
      "text/plain": [
       "<sklearn.metrics._plot.confusion_matrix.ConfusionMatrixDisplay at 0x126b3cc0a00>"
      ]
     },
     "execution_count": 75,
     "metadata": {},
     "output_type": "execute_result"
    },
    {
     "data": {
      "image/png": "[encoded data removed]",
      "text/plain": [
       "<Figure size 432x288 with 2 Axes>"
      ]
     },
     "metadata": {
      "needs_background": "light"
     },
     "output_type": "display_data"
    }
   ],
   "source": [
    "metrics.plot_confusion_matrix(knn,X_test,y_test)"
   ]
  },
  {
   "cell_type": "code",
   "execution_count": 76,
   "id": "858bb197",
   "metadata": {},
   "outputs": [
    {
     "data": {
      "text/html": [
       "<div>\n",
       "<style scoped>\n",
       "    .dataframe tbody tr th:only-of-type {\n",
       "        vertical-align: middle;\n",
       "    }\n",
       "\n",
       "    .dataframe tbody tr th {\n",
       "        vertical-align: top;\n",
       "    }\n",
       "\n",
       "    .dataframe thead th {\n",
       "        text-align: right;\n",
       "    }\n",
       "</style>\n",
       "<table border=\"1\" class=\"dataframe\">\n",
       "  <thead>\n",
       "    <tr style=\"text-align: right;\">\n",
       "      <th></th>\n",
       "      <th>Model</th>\n",
       "      <th>accuracy</th>\n",
       "      <th>precision</th>\n",
       "      <th>recall</th>\n",
       "      <th>fi_score</th>\n",
       "    </tr>\n",
       "  </thead>\n",
       "  <tbody>\n",
       "    <tr>\n",
       "      <th>0</th>\n",
       "      <td>Naive Bayes</td>\n",
       "      <td>0.726619</td>\n",
       "      <td>0.806412</td>\n",
       "      <td>0.553768</td>\n",
       "      <td>0.656627</td>\n",
       "    </tr>\n",
       "    <tr>\n",
       "      <th>1</th>\n",
       "      <td>MultinomialNB</td>\n",
       "      <td>0.726619</td>\n",
       "      <td>0.806412</td>\n",
       "      <td>0.553768</td>\n",
       "      <td>0.656627</td>\n",
       "    </tr>\n",
       "    <tr>\n",
       "      <th>2</th>\n",
       "      <td>BernoulliNB</td>\n",
       "      <td>0.726619</td>\n",
       "      <td>0.806412</td>\n",
       "      <td>0.553768</td>\n",
       "      <td>0.656627</td>\n",
       "    </tr>\n",
       "    <tr>\n",
       "      <th>3</th>\n",
       "      <td>Log_regression</td>\n",
       "      <td>0.726619</td>\n",
       "      <td>0.806412</td>\n",
       "      <td>0.553768</td>\n",
       "      <td>0.656627</td>\n",
       "    </tr>\n",
       "    <tr>\n",
       "      <th>4</th>\n",
       "      <td>svc</td>\n",
       "      <td>0.864508</td>\n",
       "      <td>0.847360</td>\n",
       "      <td>0.869602</td>\n",
       "      <td>0.858337</td>\n",
       "    </tr>\n",
       "    <tr>\n",
       "      <th>5</th>\n",
       "      <td>D_Tree</td>\n",
       "      <td>0.808953</td>\n",
       "      <td>0.810238</td>\n",
       "      <td>0.777307</td>\n",
       "      <td>0.793431</td>\n",
       "    </tr>\n",
       "    <tr>\n",
       "      <th>6</th>\n",
       "      <td>knn</td>\n",
       "      <td>0.810552</td>\n",
       "      <td>0.809816</td>\n",
       "      <td>0.782388</td>\n",
       "      <td>0.795866</td>\n",
       "    </tr>\n",
       "  </tbody>\n",
       "</table>\n",
       "</div>"
      ],
      "text/plain": [
       "            Model  accuracy  precision    recall  fi_score\n",
       "0     Naive Bayes  0.726619   0.806412  0.553768  0.656627\n",
       "1   MultinomialNB  0.726619   0.806412  0.553768  0.656627\n",
       "2     BernoulliNB  0.726619   0.806412  0.553768  0.656627\n",
       "3  Log_regression  0.726619   0.806412  0.553768  0.656627\n",
       "4             svc  0.864508   0.847360  0.869602  0.858337\n",
       "5          D_Tree  0.808953   0.810238  0.777307  0.793431\n",
       "6             knn  0.810552   0.809816  0.782388  0.795866"
      ]
     },
     "execution_count": 76,
     "metadata": {},
     "output_type": "execute_result"
    }
   ],
   "source": [
    "metric_df.loc[len(metric_df)] = (['knn',metrics.accuracy_score(y_test,y_pred),metrics.precision_score(y_test,y_pred)\n",
    "                 ,metrics.recall_score(y_test,y_pred),metrics.f1_score(y_test,y_pred)])\n",
    "metric_df"
   ]
  },
  {
   "cell_type": "markdown",
   "id": "b1e69803",
   "metadata": {},
   "source": [
    "### 8.Random forest"
   ]
  },
  {
   "cell_type": "code",
   "execution_count": 81,
   "id": "a698ef76",
   "metadata": {},
   "outputs": [
    {
     "name": "stdout",
     "output_type": "stream",
     "text": [
      "accuracy_score : 0.8353317346123101\n",
      "precision_score : 0.8658420551855376\n",
      "Recall :  0.7705334462320068\n",
      "f1_score : 0.8154121863799283\n"
     ]
    }
   ],
   "source": [
    "from sklearn.ensemble import RandomForestClassifier\n",
    "rf = RandomForestClassifier()\n",
    "rf.fit(X_train,y_train)\n",
    "y_pred = rf.predict(X_test)\n",
    "print('accuracy_score :',accuracy_score(y_test,y_pred))\n",
    "print('precision_score :',precision_score(y_test,y_pred))\n",
    "print(\"Recall : \",recall_score(y_test,y_pred))\n",
    "print('f1_score :',f1_score(y_test,y_pred))"
   ]
  },
  {
   "cell_type": "code",
   "execution_count": 82,
   "id": "d7fec61c",
   "metadata": {},
   "outputs": [
    {
     "name": "stderr",
     "output_type": "stream",
     "text": [
      "C:\\Users\\hp\\anaconda3\\lib\\site-packages\\sklearn\\utils\\deprecation.py:87: FutureWarning: Function plot_confusion_matrix is deprecated; Function `plot_confusion_matrix` is deprecated in 1.0 and will be removed in 1.2. Use one of the class methods: ConfusionMatrixDisplay.from_predictions or ConfusionMatrixDisplay.from_estimator.\n",
      "  warnings.warn(msg, category=FutureWarning)\n"
     ]
    },
    {
     "data": {
      "text/plain": [
       "<sklearn.metrics._plot.confusion_matrix.ConfusionMatrixDisplay at 0x126b3d1c460>"
      ]
     },
     "execution_count": 82,
     "metadata": {},
     "output_type": "execute_result"
    },
    {
     "data": {
      "image/png": "[encoded data removed]",
      "text/plain": [
       "<Figure size 432x288 with 2 Axes>"
      ]
     },
     "metadata": {
      "needs_background": "light"
     },
     "output_type": "display_data"
    }
   ],
   "source": [
    "metrics.plot_confusion_matrix(rf,X_test,y_test)"
   ]
  },
  {
   "cell_type": "code",
   "execution_count": 83,
   "id": "75ff9fe5",
   "metadata": {},
   "outputs": [
    {
     "data": {
      "text/html": [
       "<div>\n",
       "<style scoped>\n",
       "    .dataframe tbody tr th:only-of-type {\n",
       "        vertical-align: middle;\n",
       "    }\n",
       "\n",
       "    .dataframe tbody tr th {\n",
       "        vertical-align: top;\n",
       "    }\n",
       "\n",
       "    .dataframe thead th {\n",
       "        text-align: right;\n",
       "    }\n",
       "</style>\n",
       "<table border=\"1\" class=\"dataframe\">\n",
       "  <thead>\n",
       "    <tr style=\"text-align: right;\">\n",
       "      <th></th>\n",
       "      <th>Model</th>\n",
       "      <th>accuracy</th>\n",
       "      <th>precision</th>\n",
       "      <th>recall</th>\n",
       "      <th>fi_score</th>\n",
       "    </tr>\n",
       "  </thead>\n",
       "  <tbody>\n",
       "    <tr>\n",
       "      <th>0</th>\n",
       "      <td>Naive Bayes</td>\n",
       "      <td>0.726619</td>\n",
       "      <td>0.806412</td>\n",
       "      <td>0.553768</td>\n",
       "      <td>0.656627</td>\n",
       "    </tr>\n",
       "    <tr>\n",
       "      <th>1</th>\n",
       "      <td>MultinomialNB</td>\n",
       "      <td>0.726619</td>\n",
       "      <td>0.806412</td>\n",
       "      <td>0.553768</td>\n",
       "      <td>0.656627</td>\n",
       "    </tr>\n",
       "    <tr>\n",
       "      <th>2</th>\n",
       "      <td>BernoulliNB</td>\n",
       "      <td>0.726619</td>\n",
       "      <td>0.806412</td>\n",
       "      <td>0.553768</td>\n",
       "      <td>0.656627</td>\n",
       "    </tr>\n",
       "    <tr>\n",
       "      <th>3</th>\n",
       "      <td>Log_regression</td>\n",
       "      <td>0.726619</td>\n",
       "      <td>0.806412</td>\n",
       "      <td>0.553768</td>\n",
       "      <td>0.656627</td>\n",
       "    </tr>\n",
       "    <tr>\n",
       "      <th>4</th>\n",
       "      <td>svc</td>\n",
       "      <td>0.864508</td>\n",
       "      <td>0.847360</td>\n",
       "      <td>0.869602</td>\n",
       "      <td>0.858337</td>\n",
       "    </tr>\n",
       "    <tr>\n",
       "      <th>5</th>\n",
       "      <td>D_Tree</td>\n",
       "      <td>0.808953</td>\n",
       "      <td>0.810238</td>\n",
       "      <td>0.777307</td>\n",
       "      <td>0.793431</td>\n",
       "    </tr>\n",
       "    <tr>\n",
       "      <th>6</th>\n",
       "      <td>knn</td>\n",
       "      <td>0.810552</td>\n",
       "      <td>0.809816</td>\n",
       "      <td>0.782388</td>\n",
       "      <td>0.795866</td>\n",
       "    </tr>\n",
       "    <tr>\n",
       "      <th>7</th>\n",
       "      <td>r_forest</td>\n",
       "      <td>0.835731</td>\n",
       "      <td>0.868069</td>\n",
       "      <td>0.768840</td>\n",
       "      <td>0.815447</td>\n",
       "    </tr>\n",
       "    <tr>\n",
       "      <th>8</th>\n",
       "      <td>r_forest</td>\n",
       "      <td>0.835332</td>\n",
       "      <td>0.865842</td>\n",
       "      <td>0.770533</td>\n",
       "      <td>0.815412</td>\n",
       "    </tr>\n",
       "  </tbody>\n",
       "</table>\n",
       "</div>"
      ],
      "text/plain": [
       "            Model  accuracy  precision    recall  fi_score\n",
       "0     Naive Bayes  0.726619   0.806412  0.553768  0.656627\n",
       "1   MultinomialNB  0.726619   0.806412  0.553768  0.656627\n",
       "2     BernoulliNB  0.726619   0.806412  0.553768  0.656627\n",
       "3  Log_regression  0.726619   0.806412  0.553768  0.656627\n",
       "4             svc  0.864508   0.847360  0.869602  0.858337\n",
       "5          D_Tree  0.808953   0.810238  0.777307  0.793431\n",
       "6             knn  0.810552   0.809816  0.782388  0.795866\n",
       "7        r_forest  0.835731   0.868069  0.768840  0.815447\n",
       "8        r_forest  0.835332   0.865842  0.770533  0.815412"
      ]
     },
     "execution_count": 83,
     "metadata": {},
     "output_type": "execute_result"
    }
   ],
   "source": [
    "metric_df.loc[len(metric_df)] = (['r_forest',metrics.accuracy_score(y_test,y_pred),metrics.precision_score(y_test,y_pred)\n",
    "                 ,metrics.recall_score(y_test,y_pred),metrics.f1_score(y_test,y_pred)])\n",
    "metric_df"
   ]
  },
  {
   "cell_type": "markdown",
   "id": "af347ac0",
   "metadata": {},
   "source": [
    "### 9.Adaboost"
   ]
  },
  {
   "cell_type": "code",
   "execution_count": 84,
   "id": "b1c4fcdd",
   "metadata": {},
   "outputs": [
    {
     "name": "stdout",
     "output_type": "stream",
     "text": [
      "accuracy_score : 0.7569944044764189\n",
      "precision_score : 0.6694263749260793\n",
      "Recall :  0.9585097375105842\n",
      "f1_score : 0.7883008356545961\n"
     ]
    }
   ],
   "source": [
    "from sklearn.ensemble import AdaBoostClassifier\n",
    "adb = AdaBoostClassifier()\n",
    "adb.fit(X_train,y_train)\n",
    "y_pred = adb.predict(X_test)\n",
    "print('accuracy_score :',accuracy_score(y_test,y_pred))\n",
    "print('precision_score :',precision_score(y_test,y_pred))\n",
    "print(\"Recall : \",recall_score(y_test,y_pred))\n",
    "print('f1_score :',f1_score(y_test,y_pred))"
   ]
  },
  {
   "cell_type": "code",
   "execution_count": 85,
   "id": "679df263",
   "metadata": {},
   "outputs": [
    {
     "name": "stderr",
     "output_type": "stream",
     "text": [
      "C:\\Users\\hp\\anaconda3\\lib\\site-packages\\sklearn\\utils\\deprecation.py:87: FutureWarning: Function plot_confusion_matrix is deprecated; Function `plot_confusion_matrix` is deprecated in 1.0 and will be removed in 1.2. Use one of the class methods: ConfusionMatrixDisplay.from_predictions or ConfusionMatrixDisplay.from_estimator.\n",
      "  warnings.warn(msg, category=FutureWarning)\n"
     ]
    },
    {
     "data": {
      "text/plain": [
       "<sklearn.metrics._plot.confusion_matrix.ConfusionMatrixDisplay at 0x126b4200c40>"
      ]
     },
     "execution_count": 85,
     "metadata": {},
     "output_type": "execute_result"
    },
    {
     "data": {
      "image/png": "[encoded data removed]",
      "text/plain": [
       "<Figure size 432x288 with 2 Axes>"
      ]
     },
     "metadata": {
      "needs_background": "light"
     },
     "output_type": "display_data"
    }
   ],
   "source": [
    "metrics.plot_confusion_matrix(adb,X_test,y_test)"
   ]
  },
  {
   "cell_type": "code",
   "execution_count": 86,
   "id": "50e2f316",
   "metadata": {},
   "outputs": [
    {
     "data": {
      "text/html": [
       "<div>\n",
       "<style scoped>\n",
       "    .dataframe tbody tr th:only-of-type {\n",
       "        vertical-align: middle;\n",
       "    }\n",
       "\n",
       "    .dataframe tbody tr th {\n",
       "        vertical-align: top;\n",
       "    }\n",
       "\n",
       "    .dataframe thead th {\n",
       "        text-align: right;\n",
       "    }\n",
       "</style>\n",
       "<table border=\"1\" class=\"dataframe\">\n",
       "  <thead>\n",
       "    <tr style=\"text-align: right;\">\n",
       "      <th></th>\n",
       "      <th>Model</th>\n",
       "      <th>accuracy</th>\n",
       "      <th>precision</th>\n",
       "      <th>recall</th>\n",
       "      <th>fi_score</th>\n",
       "    </tr>\n",
       "  </thead>\n",
       "  <tbody>\n",
       "    <tr>\n",
       "      <th>0</th>\n",
       "      <td>Naive Bayes</td>\n",
       "      <td>0.726619</td>\n",
       "      <td>0.806412</td>\n",
       "      <td>0.553768</td>\n",
       "      <td>0.656627</td>\n",
       "    </tr>\n",
       "    <tr>\n",
       "      <th>1</th>\n",
       "      <td>MultinomialNB</td>\n",
       "      <td>0.726619</td>\n",
       "      <td>0.806412</td>\n",
       "      <td>0.553768</td>\n",
       "      <td>0.656627</td>\n",
       "    </tr>\n",
       "    <tr>\n",
       "      <th>2</th>\n",
       "      <td>BernoulliNB</td>\n",
       "      <td>0.726619</td>\n",
       "      <td>0.806412</td>\n",
       "      <td>0.553768</td>\n",
       "      <td>0.656627</td>\n",
       "    </tr>\n",
       "    <tr>\n",
       "      <th>3</th>\n",
       "      <td>Log_regression</td>\n",
       "      <td>0.726619</td>\n",
       "      <td>0.806412</td>\n",
       "      <td>0.553768</td>\n",
       "      <td>0.656627</td>\n",
       "    </tr>\n",
       "    <tr>\n",
       "      <th>4</th>\n",
       "      <td>svc</td>\n",
       "      <td>0.864508</td>\n",
       "      <td>0.847360</td>\n",
       "      <td>0.869602</td>\n",
       "      <td>0.858337</td>\n",
       "    </tr>\n",
       "    <tr>\n",
       "      <th>5</th>\n",
       "      <td>D_Tree</td>\n",
       "      <td>0.808953</td>\n",
       "      <td>0.810238</td>\n",
       "      <td>0.777307</td>\n",
       "      <td>0.793431</td>\n",
       "    </tr>\n",
       "    <tr>\n",
       "      <th>6</th>\n",
       "      <td>knn</td>\n",
       "      <td>0.810552</td>\n",
       "      <td>0.809816</td>\n",
       "      <td>0.782388</td>\n",
       "      <td>0.795866</td>\n",
       "    </tr>\n",
       "    <tr>\n",
       "      <th>7</th>\n",
       "      <td>r_forest</td>\n",
       "      <td>0.835731</td>\n",
       "      <td>0.868069</td>\n",
       "      <td>0.768840</td>\n",
       "      <td>0.815447</td>\n",
       "    </tr>\n",
       "    <tr>\n",
       "      <th>8</th>\n",
       "      <td>r_forest</td>\n",
       "      <td>0.835332</td>\n",
       "      <td>0.865842</td>\n",
       "      <td>0.770533</td>\n",
       "      <td>0.815412</td>\n",
       "    </tr>\n",
       "    <tr>\n",
       "      <th>9</th>\n",
       "      <td>adaboost</td>\n",
       "      <td>0.756994</td>\n",
       "      <td>0.669426</td>\n",
       "      <td>0.958510</td>\n",
       "      <td>0.788301</td>\n",
       "    </tr>\n",
       "  </tbody>\n",
       "</table>\n",
       "</div>"
      ],
      "text/plain": [
       "            Model  accuracy  precision    recall  fi_score\n",
       "0     Naive Bayes  0.726619   0.806412  0.553768  0.656627\n",
       "1   MultinomialNB  0.726619   0.806412  0.553768  0.656627\n",
       "2     BernoulliNB  0.726619   0.806412  0.553768  0.656627\n",
       "3  Log_regression  0.726619   0.806412  0.553768  0.656627\n",
       "4             svc  0.864508   0.847360  0.869602  0.858337\n",
       "5          D_Tree  0.808953   0.810238  0.777307  0.793431\n",
       "6             knn  0.810552   0.809816  0.782388  0.795866\n",
       "7        r_forest  0.835731   0.868069  0.768840  0.815447\n",
       "8        r_forest  0.835332   0.865842  0.770533  0.815412\n",
       "9        adaboost  0.756994   0.669426  0.958510  0.788301"
      ]
     },
     "execution_count": 86,
     "metadata": {},
     "output_type": "execute_result"
    }
   ],
   "source": [
    "metric_df.loc[len(metric_df)] = (['adaboost',metrics.accuracy_score(y_test,y_pred),metrics.precision_score(y_test,y_pred)\n",
    "                 ,metrics.recall_score(y_test,y_pred),metrics.f1_score(y_test,y_pred)])\n",
    "metric_df"
   ]
  },
  {
   "cell_type": "markdown",
   "id": "730e052a",
   "metadata": {},
   "source": [
    "### 10.XGBoost"
   ]
  },
  {
   "cell_type": "code",
   "execution_count": 98,
   "id": "159d8663",
   "metadata": {},
   "outputs": [
    {
     "name": "stdout",
     "output_type": "stream",
     "text": [
      "accuracy_score : 0.8057553956834532\n",
      "precision_score : 0.7333781061114842\n",
      "Recall :  0.9246401354784082\n",
      "f1_score : 0.8179775280898877\n"
     ]
    }
   ],
   "source": [
    "from xgboost import XGBClassifier\n",
    "xgb = XGBClassifier()\n",
    "xgb.fit(X_train,y_train)\n",
    "y_pred = xgb.predict(X_test)\n",
    "print('accuracy_score :',accuracy_score(y_test,y_pred))\n",
    "print('precision_score :',precision_score(y_test,y_pred))\n",
    "print(\"Recall : \",recall_score(y_test,y_pred))\n",
    "print('f1_score :',f1_score(y_test,y_pred))"
   ]
  },
  {
   "cell_type": "code",
   "execution_count": 99,
   "id": "413e34a5",
   "metadata": {},
   "outputs": [
    {
     "name": "stderr",
     "output_type": "stream",
     "text": [
      "C:\\Users\\hp\\anaconda3\\lib\\site-packages\\sklearn\\utils\\deprecation.py:87: FutureWarning: Function plot_confusion_matrix is deprecated; Function `plot_confusion_matrix` is deprecated in 1.0 and will be removed in 1.2. Use one of the class methods: ConfusionMatrixDisplay.from_predictions or ConfusionMatrixDisplay.from_estimator.\n",
      "  warnings.warn(msg, category=FutureWarning)\n"
     ]
    },
    {
     "data": {
      "text/plain": [
       "<sklearn.metrics._plot.confusion_matrix.ConfusionMatrixDisplay at 0x126b2b2acd0>"
      ]
     },
     "execution_count": 99,
     "metadata": {},
     "output_type": "execute_result"
    },
    {
     "data": {
      "image/png": "[encoded data removed]",
      "text/plain": [
       "<Figure size 432x288 with 2 Axes>"
      ]
     },
     "metadata": {
      "needs_background": "light"
     },
     "output_type": "display_data"
    }
   ],
   "source": [
    "metrics.plot_confusion_matrix(xgb,X_test,y_test)"
   ]
  },
  {
   "cell_type": "code",
   "execution_count": 100,
   "id": "2e3f6e3a",
   "metadata": {},
   "outputs": [
    {
     "data": {
      "text/html": [
       "<div>\n",
       "<style scoped>\n",
       "    .dataframe tbody tr th:only-of-type {\n",
       "        vertical-align: middle;\n",
       "    }\n",
       "\n",
       "    .dataframe tbody tr th {\n",
       "        vertical-align: top;\n",
       "    }\n",
       "\n",
       "    .dataframe thead th {\n",
       "        text-align: right;\n",
       "    }\n",
       "</style>\n",
       "<table border=\"1\" class=\"dataframe\">\n",
       "  <thead>\n",
       "    <tr style=\"text-align: right;\">\n",
       "      <th></th>\n",
       "      <th>Model</th>\n",
       "      <th>accuracy</th>\n",
       "      <th>precision</th>\n",
       "      <th>recall</th>\n",
       "      <th>fi_score</th>\n",
       "    </tr>\n",
       "  </thead>\n",
       "  <tbody>\n",
       "    <tr>\n",
       "      <th>0</th>\n",
       "      <td>Naive Bayes</td>\n",
       "      <td>0.726619</td>\n",
       "      <td>0.806412</td>\n",
       "      <td>0.553768</td>\n",
       "      <td>0.656627</td>\n",
       "    </tr>\n",
       "    <tr>\n",
       "      <th>1</th>\n",
       "      <td>MultinomialNB</td>\n",
       "      <td>0.726619</td>\n",
       "      <td>0.806412</td>\n",
       "      <td>0.553768</td>\n",
       "      <td>0.656627</td>\n",
       "    </tr>\n",
       "    <tr>\n",
       "      <th>2</th>\n",
       "      <td>BernoulliNB</td>\n",
       "      <td>0.726619</td>\n",
       "      <td>0.806412</td>\n",
       "      <td>0.553768</td>\n",
       "      <td>0.656627</td>\n",
       "    </tr>\n",
       "    <tr>\n",
       "      <th>3</th>\n",
       "      <td>Log_regression</td>\n",
       "      <td>0.726619</td>\n",
       "      <td>0.806412</td>\n",
       "      <td>0.553768</td>\n",
       "      <td>0.656627</td>\n",
       "    </tr>\n",
       "    <tr>\n",
       "      <th>4</th>\n",
       "      <td>svc</td>\n",
       "      <td>0.864508</td>\n",
       "      <td>0.847360</td>\n",
       "      <td>0.869602</td>\n",
       "      <td>0.858337</td>\n",
       "    </tr>\n",
       "    <tr>\n",
       "      <th>5</th>\n",
       "      <td>D_Tree</td>\n",
       "      <td>0.808953</td>\n",
       "      <td>0.810238</td>\n",
       "      <td>0.777307</td>\n",
       "      <td>0.793431</td>\n",
       "    </tr>\n",
       "    <tr>\n",
       "      <th>6</th>\n",
       "      <td>knn</td>\n",
       "      <td>0.810552</td>\n",
       "      <td>0.809816</td>\n",
       "      <td>0.782388</td>\n",
       "      <td>0.795866</td>\n",
       "    </tr>\n",
       "    <tr>\n",
       "      <th>7</th>\n",
       "      <td>r_forest</td>\n",
       "      <td>0.835731</td>\n",
       "      <td>0.868069</td>\n",
       "      <td>0.768840</td>\n",
       "      <td>0.815447</td>\n",
       "    </tr>\n",
       "    <tr>\n",
       "      <th>8</th>\n",
       "      <td>r_forest</td>\n",
       "      <td>0.835332</td>\n",
       "      <td>0.865842</td>\n",
       "      <td>0.770533</td>\n",
       "      <td>0.815412</td>\n",
       "    </tr>\n",
       "    <tr>\n",
       "      <th>9</th>\n",
       "      <td>adaboost</td>\n",
       "      <td>0.756994</td>\n",
       "      <td>0.669426</td>\n",
       "      <td>0.958510</td>\n",
       "      <td>0.788301</td>\n",
       "    </tr>\n",
       "    <tr>\n",
       "      <th>10</th>\n",
       "      <td>Bagging_clsfier</td>\n",
       "      <td>0.809353</td>\n",
       "      <td>0.834601</td>\n",
       "      <td>0.743438</td>\n",
       "      <td>0.786386</td>\n",
       "    </tr>\n",
       "    <tr>\n",
       "      <th>11</th>\n",
       "      <td>xgboost</td>\n",
       "      <td>0.805755</td>\n",
       "      <td>0.733378</td>\n",
       "      <td>0.924640</td>\n",
       "      <td>0.817978</td>\n",
       "    </tr>\n",
       "  </tbody>\n",
       "</table>\n",
       "</div>"
      ],
      "text/plain": [
       "              Model  accuracy  precision    recall  fi_score\n",
       "0       Naive Bayes  0.726619   0.806412  0.553768  0.656627\n",
       "1     MultinomialNB  0.726619   0.806412  0.553768  0.656627\n",
       "2       BernoulliNB  0.726619   0.806412  0.553768  0.656627\n",
       "3    Log_regression  0.726619   0.806412  0.553768  0.656627\n",
       "4               svc  0.864508   0.847360  0.869602  0.858337\n",
       "5            D_Tree  0.808953   0.810238  0.777307  0.793431\n",
       "6               knn  0.810552   0.809816  0.782388  0.795866\n",
       "7          r_forest  0.835731   0.868069  0.768840  0.815447\n",
       "8          r_forest  0.835332   0.865842  0.770533  0.815412\n",
       "9          adaboost  0.756994   0.669426  0.958510  0.788301\n",
       "10  Bagging_clsfier  0.809353   0.834601  0.743438  0.786386\n",
       "11          xgboost  0.805755   0.733378  0.924640  0.817978"
      ]
     },
     "execution_count": 100,
     "metadata": {},
     "output_type": "execute_result"
    }
   ],
   "source": [
    "metric_df.loc[len(metric_df)] = (['xgboost',metrics.accuracy_score(y_test,y_pred),metrics.precision_score(y_test,y_pred)\n",
    "                 ,metrics.recall_score(y_test,y_pred),metrics.f1_score(y_test,y_pred)])\n",
    "metric_df"
   ]
  },
  {
   "cell_type": "markdown",
   "id": "68d57d8e",
   "metadata": {},
   "source": [
    "### 11.GradianBoosting "
   ]
  },
  {
   "cell_type": "code",
   "execution_count": 101,
   "id": "ce0709e5",
   "metadata": {},
   "outputs": [],
   "source": [
    "from sklearn.ensemble import GradientBoostingClassifier\n",
    "gb = GradientBoostingClassifier()\n",
    "gb.fit(X_train,y_train)\n",
    "y_pred = gb.predict(X_test)"
   ]
  },
  {
   "cell_type": "code",
   "execution_count": 102,
   "id": "acc01d9c",
   "metadata": {},
   "outputs": [
    {
     "name": "stdout",
     "output_type": "stream",
     "text": [
      "accuracy_score : 0.7649880095923262\n",
      "precision_score : 0.6785069235400362\n",
      "Recall :  0.9542760372565622\n",
      "f1_score : 0.793103448275862\n"
     ]
    }
   ],
   "source": [
    "print('accuracy_score :',accuracy_score(y_test,y_pred))\n",
    "print('precision_score :',precision_score(y_test,y_pred))\n",
    "print(\"Recall : \",recall_score(y_test,y_pred))\n",
    "print('f1_score :',f1_score(y_test,y_pred))"
   ]
  },
  {
   "cell_type": "code",
   "execution_count": 103,
   "id": "f70f01ce",
   "metadata": {},
   "outputs": [
    {
     "name": "stderr",
     "output_type": "stream",
     "text": [
      "C:\\Users\\hp\\anaconda3\\lib\\site-packages\\sklearn\\utils\\deprecation.py:87: FutureWarning: Function plot_confusion_matrix is deprecated; Function `plot_confusion_matrix` is deprecated in 1.0 and will be removed in 1.2. Use one of the class methods: ConfusionMatrixDisplay.from_predictions or ConfusionMatrixDisplay.from_estimator.\n",
      "  warnings.warn(msg, category=FutureWarning)\n"
     ]
    },
    {
     "data": {
      "text/plain": [
       "<sklearn.metrics._plot.confusion_matrix.ConfusionMatrixDisplay at 0x126b3b6a5b0>"
      ]
     },
     "execution_count": 103,
     "metadata": {},
     "output_type": "execute_result"
    },
    {
     "data": {
      "image/png": "[encoded data removed]",
      "text/plain": [
       "<Figure size 432x288 with 2 Axes>"
      ]
     },
     "metadata": {
      "needs_background": "light"
     },
     "output_type": "display_data"
    }
   ],
   "source": [
    "metrics.plot_confusion_matrix(xgb,X_test,y_test)"
   ]
  },
  {
   "cell_type": "code",
   "execution_count": 104,
   "id": "032dea86",
   "metadata": {},
   "outputs": [
    {
     "data": {
      "text/html": [
       "<div>\n",
       "<style scoped>\n",
       "    .dataframe tbody tr th:only-of-type {\n",
       "        vertical-align: middle;\n",
       "    }\n",
       "\n",
       "    .dataframe tbody tr th {\n",
       "        vertical-align: top;\n",
       "    }\n",
       "\n",
       "    .dataframe thead th {\n",
       "        text-align: right;\n",
       "    }\n",
       "</style>\n",
       "<table border=\"1\" class=\"dataframe\">\n",
       "  <thead>\n",
       "    <tr style=\"text-align: right;\">\n",
       "      <th></th>\n",
       "      <th>Model</th>\n",
       "      <th>accuracy</th>\n",
       "      <th>precision</th>\n",
       "      <th>recall</th>\n",
       "      <th>fi_score</th>\n",
       "    </tr>\n",
       "  </thead>\n",
       "  <tbody>\n",
       "    <tr>\n",
       "      <th>0</th>\n",
       "      <td>Naive Bayes</td>\n",
       "      <td>0.726619</td>\n",
       "      <td>0.806412</td>\n",
       "      <td>0.553768</td>\n",
       "      <td>0.656627</td>\n",
       "    </tr>\n",
       "    <tr>\n",
       "      <th>1</th>\n",
       "      <td>MultinomialNB</td>\n",
       "      <td>0.726619</td>\n",
       "      <td>0.806412</td>\n",
       "      <td>0.553768</td>\n",
       "      <td>0.656627</td>\n",
       "    </tr>\n",
       "    <tr>\n",
       "      <th>2</th>\n",
       "      <td>BernoulliNB</td>\n",
       "      <td>0.726619</td>\n",
       "      <td>0.806412</td>\n",
       "      <td>0.553768</td>\n",
       "      <td>0.656627</td>\n",
       "    </tr>\n",
       "    <tr>\n",
       "      <th>3</th>\n",
       "      <td>Log_regression</td>\n",
       "      <td>0.726619</td>\n",
       "      <td>0.806412</td>\n",
       "      <td>0.553768</td>\n",
       "      <td>0.656627</td>\n",
       "    </tr>\n",
       "    <tr>\n",
       "      <th>4</th>\n",
       "      <td>svc</td>\n",
       "      <td>0.864508</td>\n",
       "      <td>0.847360</td>\n",
       "      <td>0.869602</td>\n",
       "      <td>0.858337</td>\n",
       "    </tr>\n",
       "    <tr>\n",
       "      <th>5</th>\n",
       "      <td>D_Tree</td>\n",
       "      <td>0.808953</td>\n",
       "      <td>0.810238</td>\n",
       "      <td>0.777307</td>\n",
       "      <td>0.793431</td>\n",
       "    </tr>\n",
       "    <tr>\n",
       "      <th>6</th>\n",
       "      <td>knn</td>\n",
       "      <td>0.810552</td>\n",
       "      <td>0.809816</td>\n",
       "      <td>0.782388</td>\n",
       "      <td>0.795866</td>\n",
       "    </tr>\n",
       "    <tr>\n",
       "      <th>7</th>\n",
       "      <td>r_forest</td>\n",
       "      <td>0.835731</td>\n",
       "      <td>0.868069</td>\n",
       "      <td>0.768840</td>\n",
       "      <td>0.815447</td>\n",
       "    </tr>\n",
       "    <tr>\n",
       "      <th>8</th>\n",
       "      <td>r_forest</td>\n",
       "      <td>0.835332</td>\n",
       "      <td>0.865842</td>\n",
       "      <td>0.770533</td>\n",
       "      <td>0.815412</td>\n",
       "    </tr>\n",
       "    <tr>\n",
       "      <th>9</th>\n",
       "      <td>adaboost</td>\n",
       "      <td>0.756994</td>\n",
       "      <td>0.669426</td>\n",
       "      <td>0.958510</td>\n",
       "      <td>0.788301</td>\n",
       "    </tr>\n",
       "    <tr>\n",
       "      <th>10</th>\n",
       "      <td>Bagging_clsfier</td>\n",
       "      <td>0.809353</td>\n",
       "      <td>0.834601</td>\n",
       "      <td>0.743438</td>\n",
       "      <td>0.786386</td>\n",
       "    </tr>\n",
       "    <tr>\n",
       "      <th>11</th>\n",
       "      <td>xgboost</td>\n",
       "      <td>0.805755</td>\n",
       "      <td>0.733378</td>\n",
       "      <td>0.924640</td>\n",
       "      <td>0.817978</td>\n",
       "    </tr>\n",
       "    <tr>\n",
       "      <th>12</th>\n",
       "      <td>xgboost</td>\n",
       "      <td>0.764988</td>\n",
       "      <td>0.678507</td>\n",
       "      <td>0.954276</td>\n",
       "      <td>0.793103</td>\n",
       "    </tr>\n",
       "  </tbody>\n",
       "</table>\n",
       "</div>"
      ],
      "text/plain": [
       "              Model  accuracy  precision    recall  fi_score\n",
       "0       Naive Bayes  0.726619   0.806412  0.553768  0.656627\n",
       "1     MultinomialNB  0.726619   0.806412  0.553768  0.656627\n",
       "2       BernoulliNB  0.726619   0.806412  0.553768  0.656627\n",
       "3    Log_regression  0.726619   0.806412  0.553768  0.656627\n",
       "4               svc  0.864508   0.847360  0.869602  0.858337\n",
       "5            D_Tree  0.808953   0.810238  0.777307  0.793431\n",
       "6               knn  0.810552   0.809816  0.782388  0.795866\n",
       "7          r_forest  0.835731   0.868069  0.768840  0.815447\n",
       "8          r_forest  0.835332   0.865842  0.770533  0.815412\n",
       "9          adaboost  0.756994   0.669426  0.958510  0.788301\n",
       "10  Bagging_clsfier  0.809353   0.834601  0.743438  0.786386\n",
       "11          xgboost  0.805755   0.733378  0.924640  0.817978\n",
       "12          xgboost  0.764988   0.678507  0.954276  0.793103"
      ]
     },
     "execution_count": 104,
     "metadata": {},
     "output_type": "execute_result"
    }
   ],
   "source": [
    "metric_df.loc[len(metric_df)] = (['xgboost',metrics.accuracy_score(y_test,y_pred),metrics.precision_score(y_test,y_pred)\n",
    "                 ,metrics.recall_score(y_test,y_pred),metrics.f1_score(y_test,y_pred)])\n",
    "metric_df"
   ]
  },
  {
   "cell_type": "code",
   "execution_count": null,
   "id": "e10c9e59",
   "metadata": {},
   "outputs": [],
   "source": []
  }
 ],
 "metadata": {
  "kernelspec": {
   "display_name": "Python 3 (ipykernel)",
   "language": "python",
   "name": "python3"
  },
  "language_info": {
   "codemirror_mode": {
    "name": "ipython",
    "version": 3
   },
   "file_extension": ".py",
   "mimetype": "text/x-python",
   "name": "python",
   "nbconvert_exporter": "python",
   "pygments_lexer": "ipython3",
   "version": "3.9.12"
  }
 },
 "nbformat": 4,
 "nbformat_minor": 5
}
